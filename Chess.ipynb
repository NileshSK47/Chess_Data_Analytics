{
 "cells": [
  {
   "cell_type": "markdown",
   "id": "f1ed1479",
   "metadata": {},
   "source": [
    "Kaggle dataset link: https://www.kaggle.com/datasets/surajjha101/fide-chess-rankings-updated"
   ]
  },
  {
   "cell_type": "markdown",
   "id": "68218ebf",
   "metadata": {},
   "source": [
    "### Importing required modules"
   ]
  },
  {
   "cell_type": "code",
   "execution_count": 102,
   "id": "347a03d7",
   "metadata": {},
   "outputs": [],
   "source": [
    "import numpy as np\n",
    "import matplotlib.pyplot as plt\n",
    "import pandas as pd\n",
    "import plotly.express as px\n",
    "plt.style.use('seaborn')\n",
    "plt.rcParams.update({'font.family':'sans-serif', 'font.size' : 14})"
   ]
  },
  {
   "cell_type": "code",
   "execution_count": 2,
   "id": "15277d19",
   "metadata": {},
   "outputs": [],
   "source": [
    "df = pd.read_csv(\"C:/Users/Nilesh/Documents/CSV/fide_historical.csv\")"
   ]
  },
  {
   "cell_type": "code",
   "execution_count": 3,
   "id": "cb6d52cb",
   "metadata": {},
   "outputs": [
    {
     "data": {
      "text/html": [
       "<div>\n",
       "<style scoped>\n",
       "    .dataframe tbody tr th:only-of-type {\n",
       "        vertical-align: middle;\n",
       "    }\n",
       "\n",
       "    .dataframe tbody tr th {\n",
       "        vertical-align: top;\n",
       "    }\n",
       "\n",
       "    .dataframe thead th {\n",
       "        text-align: right;\n",
       "    }\n",
       "</style>\n",
       "<table border=\"1\" class=\"dataframe\">\n",
       "  <thead>\n",
       "    <tr style=\"text-align: right;\">\n",
       "      <th></th>\n",
       "      <th>ranking_date</th>\n",
       "      <th>rank</th>\n",
       "      <th>name</th>\n",
       "      <th>title</th>\n",
       "      <th>country</th>\n",
       "      <th>rating</th>\n",
       "      <th>games</th>\n",
       "      <th>birth_year</th>\n",
       "    </tr>\n",
       "  </thead>\n",
       "  <tbody>\n",
       "    <tr>\n",
       "      <th>0</th>\n",
       "      <td>27-07-00</td>\n",
       "      <td>1</td>\n",
       "      <td>Kasparov, Garry</td>\n",
       "      <td>g</td>\n",
       "      <td>RUS</td>\n",
       "      <td>2849</td>\n",
       "      <td>35</td>\n",
       "      <td>1963</td>\n",
       "    </tr>\n",
       "    <tr>\n",
       "      <th>1</th>\n",
       "      <td>27-07-00</td>\n",
       "      <td>2</td>\n",
       "      <td>Kramnik, Vladimir</td>\n",
       "      <td>g</td>\n",
       "      <td>RUS</td>\n",
       "      <td>2770</td>\n",
       "      <td>23</td>\n",
       "      <td>1975</td>\n",
       "    </tr>\n",
       "    <tr>\n",
       "      <th>2</th>\n",
       "      <td>27-07-00</td>\n",
       "      <td>3</td>\n",
       "      <td>Anand, Viswanathan</td>\n",
       "      <td>g</td>\n",
       "      <td>IND</td>\n",
       "      <td>2762</td>\n",
       "      <td>23</td>\n",
       "      <td>1969</td>\n",
       "    </tr>\n",
       "    <tr>\n",
       "      <th>3</th>\n",
       "      <td>27-07-00</td>\n",
       "      <td>4</td>\n",
       "      <td>Morozevich, Alexander</td>\n",
       "      <td>g</td>\n",
       "      <td>RUS</td>\n",
       "      <td>2756</td>\n",
       "      <td>28</td>\n",
       "      <td>1977</td>\n",
       "    </tr>\n",
       "    <tr>\n",
       "      <th>4</th>\n",
       "      <td>27-07-00</td>\n",
       "      <td>5</td>\n",
       "      <td>Adams, Michael</td>\n",
       "      <td>g</td>\n",
       "      <td>ENG</td>\n",
       "      <td>2755</td>\n",
       "      <td>38</td>\n",
       "      <td>1971</td>\n",
       "    </tr>\n",
       "  </tbody>\n",
       "</table>\n",
       "</div>"
      ],
      "text/plain": [
       "  ranking_date  rank                   name title country  rating  games  \\\n",
       "0     27-07-00     1        Kasparov, Garry     g     RUS    2849     35   \n",
       "1     27-07-00     2      Kramnik, Vladimir     g     RUS    2770     23   \n",
       "2     27-07-00     3     Anand, Viswanathan     g     IND    2762     23   \n",
       "3     27-07-00     4  Morozevich, Alexander     g     RUS    2756     28   \n",
       "4     27-07-00     5         Adams, Michael     g     ENG    2755     38   \n",
       "\n",
       "   birth_year  \n",
       "0        1963  \n",
       "1        1975  \n",
       "2        1969  \n",
       "3        1977  \n",
       "4        1971  "
      ]
     },
     "execution_count": 3,
     "metadata": {},
     "output_type": "execute_result"
    }
   ],
   "source": [
    "df.head()"
   ]
  },
  {
   "cell_type": "code",
   "execution_count": 4,
   "id": "2d394067",
   "metadata": {},
   "outputs": [
    {
     "data": {
      "text/plain": [
       "(11511, 8)"
      ]
     },
     "execution_count": 4,
     "metadata": {},
     "output_type": "execute_result"
    }
   ],
   "source": [
    "df.shape"
   ]
  },
  {
   "cell_type": "code",
   "execution_count": 5,
   "id": "fc38dfba",
   "metadata": {
    "scrolled": true
   },
   "outputs": [],
   "source": [
    "df.ranking_date = df.ranking_date.astype('datetime64[ns]')"
   ]
  },
  {
   "cell_type": "code",
   "execution_count": 6,
   "id": "4d14dbaf",
   "metadata": {},
   "outputs": [
    {
     "data": {
      "text/plain": [
       "ranking_date    datetime64[ns]\n",
       "rank                     int64\n",
       "name                    object\n",
       "title                   object\n",
       "country                 object\n",
       "rating                   int64\n",
       "games                    int64\n",
       "birth_year               int64\n",
       "dtype: object"
      ]
     },
     "execution_count": 6,
     "metadata": {},
     "output_type": "execute_result"
    }
   ],
   "source": [
    "df.dtypes"
   ]
  },
  {
   "cell_type": "code",
   "execution_count": 7,
   "id": "5072a11d",
   "metadata": {
    "scrolled": true
   },
   "outputs": [
    {
     "data": {
      "text/plain": [
       "array(['2000-07-27T00:00:00.000000000', '2000-10-27T00:00:00.000000000',\n",
       "       '2001-01-27T00:00:00.000000000', '2001-04-27T00:00:00.000000000',\n",
       "       '2001-07-27T00:00:00.000000000', '2001-10-27T00:00:00.000000000',\n",
       "       '2002-01-27T00:00:00.000000000', '2002-04-27T00:00:00.000000000',\n",
       "       '2002-07-27T00:00:00.000000000', '2002-10-27T00:00:00.000000000',\n",
       "       '2003-01-27T00:00:00.000000000', '2003-04-27T00:00:00.000000000',\n",
       "       '2003-07-27T00:00:00.000000000', '2003-10-27T00:00:00.000000000',\n",
       "       '2004-01-27T00:00:00.000000000', '2004-04-27T00:00:00.000000000',\n",
       "       '2004-07-27T00:00:00.000000000', '2004-10-27T00:00:00.000000000',\n",
       "       '2005-01-27T00:00:00.000000000', '2005-04-27T00:00:00.000000000',\n",
       "       '2005-07-27T00:00:00.000000000', '2005-10-27T00:00:00.000000000',\n",
       "       '2006-01-27T00:00:00.000000000', '2006-04-27T00:00:00.000000000',\n",
       "       '2006-07-27T00:00:00.000000000', '2006-10-27T00:00:00.000000000',\n",
       "       '2007-01-27T00:00:00.000000000', '2007-04-27T00:00:00.000000000',\n",
       "       '2007-07-27T00:00:00.000000000', '2007-10-27T00:00:00.000000000',\n",
       "       '2008-01-27T00:00:00.000000000', '2008-04-27T00:00:00.000000000',\n",
       "       '2008-07-27T00:00:00.000000000', '2008-10-27T00:00:00.000000000',\n",
       "       '2009-01-27T00:00:00.000000000', '2009-04-27T00:00:00.000000000',\n",
       "       '2009-07-27T00:00:00.000000000', '2009-09-27T00:00:00.000000000',\n",
       "       '2009-11-27T00:00:00.000000000', '2010-01-27T00:00:00.000000000',\n",
       "       '2010-03-27T00:00:00.000000000', '2010-05-27T00:00:00.000000000',\n",
       "       '2010-07-27T00:00:00.000000000', '2010-09-27T00:00:00.000000000',\n",
       "       '2010-11-27T00:00:00.000000000', '2011-01-27T00:00:00.000000000',\n",
       "       '2011-03-27T00:00:00.000000000', '2011-05-27T00:00:00.000000000',\n",
       "       '2011-07-27T00:00:00.000000000', '2011-09-27T00:00:00.000000000',\n",
       "       '2011-11-27T00:00:00.000000000', '2012-01-27T00:00:00.000000000',\n",
       "       '2012-03-27T00:00:00.000000000', '2012-05-27T00:00:00.000000000',\n",
       "       '2012-07-27T00:00:00.000000000', '2012-08-27T00:00:00.000000000',\n",
       "       '2012-09-27T00:00:00.000000000', '2012-10-27T00:00:00.000000000',\n",
       "       '2012-11-27T00:00:00.000000000', '2012-12-27T00:00:00.000000000',\n",
       "       '2013-01-27T00:00:00.000000000', '2013-02-27T00:00:00.000000000',\n",
       "       '2013-03-27T00:00:00.000000000', '2013-04-27T00:00:00.000000000',\n",
       "       '2013-05-27T00:00:00.000000000', '2013-06-27T00:00:00.000000000',\n",
       "       '2013-07-27T00:00:00.000000000', '2013-08-27T00:00:00.000000000',\n",
       "       '2013-09-27T00:00:00.000000000', '2013-10-27T00:00:00.000000000',\n",
       "       '2013-11-27T00:00:00.000000000', '2013-12-27T00:00:00.000000000',\n",
       "       '2014-01-27T00:00:00.000000000', '2014-02-27T00:00:00.000000000',\n",
       "       '2014-03-27T00:00:00.000000000', '2014-04-27T00:00:00.000000000',\n",
       "       '2014-05-27T00:00:00.000000000', '2014-06-27T00:00:00.000000000',\n",
       "       '2014-07-27T00:00:00.000000000', '2014-08-27T00:00:00.000000000',\n",
       "       '2014-09-27T00:00:00.000000000', '2014-10-27T00:00:00.000000000',\n",
       "       '2014-11-27T00:00:00.000000000', '2014-12-27T00:00:00.000000000',\n",
       "       '2015-01-27T00:00:00.000000000', '2015-02-27T00:00:00.000000000',\n",
       "       '2015-03-27T00:00:00.000000000', '2015-04-27T00:00:00.000000000',\n",
       "       '2015-05-27T00:00:00.000000000', '2015-06-27T00:00:00.000000000',\n",
       "       '2015-07-27T00:00:00.000000000', '2015-08-27T00:00:00.000000000',\n",
       "       '2015-09-27T00:00:00.000000000', '2015-10-27T00:00:00.000000000',\n",
       "       '2015-11-27T00:00:00.000000000', '2015-12-27T00:00:00.000000000',\n",
       "       '2016-01-27T00:00:00.000000000', '2016-02-27T00:00:00.000000000',\n",
       "       '2016-03-27T00:00:00.000000000', '2016-04-27T00:00:00.000000000',\n",
       "       '2016-05-27T00:00:00.000000000', '2016-06-27T00:00:00.000000000',\n",
       "       '2016-07-27T00:00:00.000000000', '2016-08-27T00:00:00.000000000',\n",
       "       '2016-09-27T00:00:00.000000000', '2016-10-27T00:00:00.000000000',\n",
       "       '2016-11-27T00:00:00.000000000', '2016-12-27T00:00:00.000000000',\n",
       "       '2017-01-27T00:00:00.000000000', '2017-02-27T00:00:00.000000000',\n",
       "       '2017-03-27T00:00:00.000000000', '2017-04-27T00:00:00.000000000',\n",
       "       '2017-05-27T00:00:00.000000000', '2017-06-27T00:00:00.000000000'],\n",
       "      dtype='datetime64[ns]')"
      ]
     },
     "execution_count": 7,
     "metadata": {},
     "output_type": "execute_result"
    }
   ],
   "source": [
    "df['ranking_date'].unique()"
   ]
  },
  {
   "cell_type": "markdown",
   "id": "83be3b0f",
   "metadata": {},
   "source": [
    "<br>"
   ]
  },
  {
   "cell_type": "markdown",
   "id": "16edc1dc",
   "metadata": {},
   "source": [
    "### Plotting a bar graoh of players who were ranked 1 with their total wins"
   ]
  },
  {
   "cell_type": "code",
   "execution_count": 8,
   "id": "dfc17fc0",
   "metadata": {},
   "outputs": [],
   "source": [
    "rank1 = df.loc[df['rank'] == 1]"
   ]
  },
  {
   "cell_type": "code",
   "execution_count": 9,
   "id": "eef1c9fb",
   "metadata": {},
   "outputs": [
    {
     "data": {
      "text/html": [
       "<div>\n",
       "<style scoped>\n",
       "    .dataframe tbody tr th:only-of-type {\n",
       "        vertical-align: middle;\n",
       "    }\n",
       "\n",
       "    .dataframe tbody tr th {\n",
       "        vertical-align: top;\n",
       "    }\n",
       "\n",
       "    .dataframe thead th {\n",
       "        text-align: right;\n",
       "    }\n",
       "</style>\n",
       "<table border=\"1\" class=\"dataframe\">\n",
       "  <thead>\n",
       "    <tr style=\"text-align: right;\">\n",
       "      <th></th>\n",
       "      <th>ranking_date</th>\n",
       "      <th>rank</th>\n",
       "      <th>name</th>\n",
       "      <th>title</th>\n",
       "      <th>country</th>\n",
       "      <th>rating</th>\n",
       "      <th>games</th>\n",
       "      <th>birth_year</th>\n",
       "    </tr>\n",
       "  </thead>\n",
       "  <tbody>\n",
       "    <tr>\n",
       "      <th>0</th>\n",
       "      <td>2000-07-27</td>\n",
       "      <td>1</td>\n",
       "      <td>Kasparov, Garry</td>\n",
       "      <td>g</td>\n",
       "      <td>RUS</td>\n",
       "      <td>2849</td>\n",
       "      <td>35</td>\n",
       "      <td>1963</td>\n",
       "    </tr>\n",
       "    <tr>\n",
       "      <th>100</th>\n",
       "      <td>2000-10-27</td>\n",
       "      <td>1</td>\n",
       "      <td>Kasparov, Garry</td>\n",
       "      <td>g</td>\n",
       "      <td>RUS</td>\n",
       "      <td>2849</td>\n",
       "      <td>0</td>\n",
       "      <td>1963</td>\n",
       "    </tr>\n",
       "    <tr>\n",
       "      <th>200</th>\n",
       "      <td>2001-01-27</td>\n",
       "      <td>1</td>\n",
       "      <td>Kasparov, Gary</td>\n",
       "      <td>g</td>\n",
       "      <td>RUS</td>\n",
       "      <td>2849</td>\n",
       "      <td>0</td>\n",
       "      <td>1963</td>\n",
       "    </tr>\n",
       "    <tr>\n",
       "      <th>300</th>\n",
       "      <td>2001-04-27</td>\n",
       "      <td>1</td>\n",
       "      <td>Kasparov, Garry</td>\n",
       "      <td>g</td>\n",
       "      <td>RUS</td>\n",
       "      <td>2827</td>\n",
       "      <td>38</td>\n",
       "      <td>1963</td>\n",
       "    </tr>\n",
       "    <tr>\n",
       "      <th>400</th>\n",
       "      <td>2001-07-27</td>\n",
       "      <td>1</td>\n",
       "      <td>Kasparov, Garry</td>\n",
       "      <td>g</td>\n",
       "      <td>RUS</td>\n",
       "      <td>2838</td>\n",
       "      <td>10</td>\n",
       "      <td>1963</td>\n",
       "    </tr>\n",
       "    <tr>\n",
       "      <th>...</th>\n",
       "      <td>...</td>\n",
       "      <td>...</td>\n",
       "      <td>...</td>\n",
       "      <td>...</td>\n",
       "      <td>...</td>\n",
       "      <td>...</td>\n",
       "      <td>...</td>\n",
       "      <td>...</td>\n",
       "    </tr>\n",
       "    <tr>\n",
       "      <th>11006</th>\n",
       "      <td>2017-02-27</td>\n",
       "      <td>1</td>\n",
       "      <td>Carlsen, Magnus</td>\n",
       "      <td>g</td>\n",
       "      <td>NOR</td>\n",
       "      <td>2838</td>\n",
       "      <td>13</td>\n",
       "      <td>1990</td>\n",
       "    </tr>\n",
       "    <tr>\n",
       "      <th>11107</th>\n",
       "      <td>2017-03-27</td>\n",
       "      <td>1</td>\n",
       "      <td>Carlsen, Magnus</td>\n",
       "      <td>g</td>\n",
       "      <td>NOR</td>\n",
       "      <td>2838</td>\n",
       "      <td>0</td>\n",
       "      <td>1990</td>\n",
       "    </tr>\n",
       "    <tr>\n",
       "      <th>11207</th>\n",
       "      <td>2017-04-27</td>\n",
       "      <td>1</td>\n",
       "      <td>Carlsen, Magnus</td>\n",
       "      <td>g</td>\n",
       "      <td>NOR</td>\n",
       "      <td>2838</td>\n",
       "      <td>0</td>\n",
       "      <td>1990</td>\n",
       "    </tr>\n",
       "    <tr>\n",
       "      <th>11308</th>\n",
       "      <td>2017-05-27</td>\n",
       "      <td>1</td>\n",
       "      <td>Carlsen, Magnus</td>\n",
       "      <td>g</td>\n",
       "      <td>NOR</td>\n",
       "      <td>2832</td>\n",
       "      <td>7</td>\n",
       "      <td>1990</td>\n",
       "    </tr>\n",
       "    <tr>\n",
       "      <th>11411</th>\n",
       "      <td>2017-06-27</td>\n",
       "      <td>1</td>\n",
       "      <td>Carlsen, Magnus</td>\n",
       "      <td>g</td>\n",
       "      <td>NOR</td>\n",
       "      <td>2832</td>\n",
       "      <td>0</td>\n",
       "      <td>1990</td>\n",
       "    </tr>\n",
       "  </tbody>\n",
       "</table>\n",
       "<p>114 rows × 8 columns</p>\n",
       "</div>"
      ],
      "text/plain": [
       "      ranking_date  rank             name title country  rating  games  \\\n",
       "0       2000-07-27     1  Kasparov, Garry     g     RUS    2849     35   \n",
       "100     2000-10-27     1  Kasparov, Garry     g     RUS    2849      0   \n",
       "200     2001-01-27     1   Kasparov, Gary     g     RUS    2849      0   \n",
       "300     2001-04-27     1  Kasparov, Garry     g     RUS    2827     38   \n",
       "400     2001-07-27     1  Kasparov, Garry     g     RUS    2838     10   \n",
       "...            ...   ...              ...   ...     ...     ...    ...   \n",
       "11006   2017-02-27     1  Carlsen, Magnus     g     NOR    2838     13   \n",
       "11107   2017-03-27     1  Carlsen, Magnus     g     NOR    2838      0   \n",
       "11207   2017-04-27     1  Carlsen, Magnus     g     NOR    2838      0   \n",
       "11308   2017-05-27     1  Carlsen, Magnus     g     NOR    2832      7   \n",
       "11411   2017-06-27     1  Carlsen, Magnus     g     NOR    2832      0   \n",
       "\n",
       "       birth_year  \n",
       "0            1963  \n",
       "100          1963  \n",
       "200          1963  \n",
       "300          1963  \n",
       "400          1963  \n",
       "...           ...  \n",
       "11006        1990  \n",
       "11107        1990  \n",
       "11207        1990  \n",
       "11308        1990  \n",
       "11411        1990  \n",
       "\n",
       "[114 rows x 8 columns]"
      ]
     },
     "execution_count": 9,
     "metadata": {},
     "output_type": "execute_result"
    }
   ],
   "source": [
    "rank1"
   ]
  },
  {
   "cell_type": "code",
   "execution_count": 10,
   "id": "6568a6a0",
   "metadata": {},
   "outputs": [],
   "source": [
    "rank1 = df[df['rank'] == 1]"
   ]
  },
  {
   "cell_type": "code",
   "execution_count": 11,
   "id": "d1562c87",
   "metadata": {
    "scrolled": true
   },
   "outputs": [
    {
     "data": {
      "text/html": [
       "<div>\n",
       "<style scoped>\n",
       "    .dataframe tbody tr th:only-of-type {\n",
       "        vertical-align: middle;\n",
       "    }\n",
       "\n",
       "    .dataframe tbody tr th {\n",
       "        vertical-align: top;\n",
       "    }\n",
       "\n",
       "    .dataframe thead th {\n",
       "        text-align: right;\n",
       "    }\n",
       "</style>\n",
       "<table border=\"1\" class=\"dataframe\">\n",
       "  <thead>\n",
       "    <tr style=\"text-align: right;\">\n",
       "      <th></th>\n",
       "      <th>ranking_date</th>\n",
       "      <th>rank</th>\n",
       "      <th>name</th>\n",
       "      <th>title</th>\n",
       "      <th>country</th>\n",
       "      <th>rating</th>\n",
       "      <th>games</th>\n",
       "      <th>birth_year</th>\n",
       "    </tr>\n",
       "  </thead>\n",
       "  <tbody>\n",
       "    <tr>\n",
       "      <th>0</th>\n",
       "      <td>2000-07-27</td>\n",
       "      <td>1</td>\n",
       "      <td>Kasparov, Garry</td>\n",
       "      <td>g</td>\n",
       "      <td>RUS</td>\n",
       "      <td>2849</td>\n",
       "      <td>35</td>\n",
       "      <td>1963</td>\n",
       "    </tr>\n",
       "    <tr>\n",
       "      <th>100</th>\n",
       "      <td>2000-10-27</td>\n",
       "      <td>1</td>\n",
       "      <td>Kasparov, Garry</td>\n",
       "      <td>g</td>\n",
       "      <td>RUS</td>\n",
       "      <td>2849</td>\n",
       "      <td>0</td>\n",
       "      <td>1963</td>\n",
       "    </tr>\n",
       "    <tr>\n",
       "      <th>200</th>\n",
       "      <td>2001-01-27</td>\n",
       "      <td>1</td>\n",
       "      <td>Kasparov, Gary</td>\n",
       "      <td>g</td>\n",
       "      <td>RUS</td>\n",
       "      <td>2849</td>\n",
       "      <td>0</td>\n",
       "      <td>1963</td>\n",
       "    </tr>\n",
       "    <tr>\n",
       "      <th>300</th>\n",
       "      <td>2001-04-27</td>\n",
       "      <td>1</td>\n",
       "      <td>Kasparov, Garry</td>\n",
       "      <td>g</td>\n",
       "      <td>RUS</td>\n",
       "      <td>2827</td>\n",
       "      <td>38</td>\n",
       "      <td>1963</td>\n",
       "    </tr>\n",
       "    <tr>\n",
       "      <th>400</th>\n",
       "      <td>2001-07-27</td>\n",
       "      <td>1</td>\n",
       "      <td>Kasparov, Garry</td>\n",
       "      <td>g</td>\n",
       "      <td>RUS</td>\n",
       "      <td>2838</td>\n",
       "      <td>10</td>\n",
       "      <td>1963</td>\n",
       "    </tr>\n",
       "    <tr>\n",
       "      <th>...</th>\n",
       "      <td>...</td>\n",
       "      <td>...</td>\n",
       "      <td>...</td>\n",
       "      <td>...</td>\n",
       "      <td>...</td>\n",
       "      <td>...</td>\n",
       "      <td>...</td>\n",
       "      <td>...</td>\n",
       "    </tr>\n",
       "    <tr>\n",
       "      <th>11006</th>\n",
       "      <td>2017-02-27</td>\n",
       "      <td>1</td>\n",
       "      <td>Carlsen, Magnus</td>\n",
       "      <td>g</td>\n",
       "      <td>NOR</td>\n",
       "      <td>2838</td>\n",
       "      <td>13</td>\n",
       "      <td>1990</td>\n",
       "    </tr>\n",
       "    <tr>\n",
       "      <th>11107</th>\n",
       "      <td>2017-03-27</td>\n",
       "      <td>1</td>\n",
       "      <td>Carlsen, Magnus</td>\n",
       "      <td>g</td>\n",
       "      <td>NOR</td>\n",
       "      <td>2838</td>\n",
       "      <td>0</td>\n",
       "      <td>1990</td>\n",
       "    </tr>\n",
       "    <tr>\n",
       "      <th>11207</th>\n",
       "      <td>2017-04-27</td>\n",
       "      <td>1</td>\n",
       "      <td>Carlsen, Magnus</td>\n",
       "      <td>g</td>\n",
       "      <td>NOR</td>\n",
       "      <td>2838</td>\n",
       "      <td>0</td>\n",
       "      <td>1990</td>\n",
       "    </tr>\n",
       "    <tr>\n",
       "      <th>11308</th>\n",
       "      <td>2017-05-27</td>\n",
       "      <td>1</td>\n",
       "      <td>Carlsen, Magnus</td>\n",
       "      <td>g</td>\n",
       "      <td>NOR</td>\n",
       "      <td>2832</td>\n",
       "      <td>7</td>\n",
       "      <td>1990</td>\n",
       "    </tr>\n",
       "    <tr>\n",
       "      <th>11411</th>\n",
       "      <td>2017-06-27</td>\n",
       "      <td>1</td>\n",
       "      <td>Carlsen, Magnus</td>\n",
       "      <td>g</td>\n",
       "      <td>NOR</td>\n",
       "      <td>2832</td>\n",
       "      <td>0</td>\n",
       "      <td>1990</td>\n",
       "    </tr>\n",
       "  </tbody>\n",
       "</table>\n",
       "<p>114 rows × 8 columns</p>\n",
       "</div>"
      ],
      "text/plain": [
       "      ranking_date  rank             name title country  rating  games  \\\n",
       "0       2000-07-27     1  Kasparov, Garry     g     RUS    2849     35   \n",
       "100     2000-10-27     1  Kasparov, Garry     g     RUS    2849      0   \n",
       "200     2001-01-27     1   Kasparov, Gary     g     RUS    2849      0   \n",
       "300     2001-04-27     1  Kasparov, Garry     g     RUS    2827     38   \n",
       "400     2001-07-27     1  Kasparov, Garry     g     RUS    2838     10   \n",
       "...            ...   ...              ...   ...     ...     ...    ...   \n",
       "11006   2017-02-27     1  Carlsen, Magnus     g     NOR    2838     13   \n",
       "11107   2017-03-27     1  Carlsen, Magnus     g     NOR    2838      0   \n",
       "11207   2017-04-27     1  Carlsen, Magnus     g     NOR    2838      0   \n",
       "11308   2017-05-27     1  Carlsen, Magnus     g     NOR    2832      7   \n",
       "11411   2017-06-27     1  Carlsen, Magnus     g     NOR    2832      0   \n",
       "\n",
       "       birth_year  \n",
       "0            1963  \n",
       "100          1963  \n",
       "200          1963  \n",
       "300          1963  \n",
       "400          1963  \n",
       "...           ...  \n",
       "11006        1990  \n",
       "11107        1990  \n",
       "11207        1990  \n",
       "11308        1990  \n",
       "11411        1990  \n",
       "\n",
       "[114 rows x 8 columns]"
      ]
     },
     "execution_count": 11,
     "metadata": {},
     "output_type": "execute_result"
    }
   ],
   "source": [
    "rank1"
   ]
  },
  {
   "cell_type": "code",
   "execution_count": 12,
   "id": "3f6bc204",
   "metadata": {},
   "outputs": [],
   "source": [
    "names = pd.DataFrame(rank1['name'].value_counts()).reset_index()"
   ]
  },
  {
   "cell_type": "code",
   "execution_count": 13,
   "id": "f1a37bca",
   "metadata": {},
   "outputs": [
    {
     "data": {
      "text/html": [
       "<div>\n",
       "<style scoped>\n",
       "    .dataframe tbody tr th:only-of-type {\n",
       "        vertical-align: middle;\n",
       "    }\n",
       "\n",
       "    .dataframe tbody tr th {\n",
       "        vertical-align: top;\n",
       "    }\n",
       "\n",
       "    .dataframe thead th {\n",
       "        text-align: right;\n",
       "    }\n",
       "</style>\n",
       "<table border=\"1\" class=\"dataframe\">\n",
       "  <thead>\n",
       "    <tr style=\"text-align: right;\">\n",
       "      <th></th>\n",
       "      <th>index</th>\n",
       "      <th>name</th>\n",
       "    </tr>\n",
       "  </thead>\n",
       "  <tbody>\n",
       "    <tr>\n",
       "      <th>0</th>\n",
       "      <td>Carlsen, Magnus</td>\n",
       "      <td>72</td>\n",
       "    </tr>\n",
       "    <tr>\n",
       "      <th>1</th>\n",
       "      <td>Kasparov, Garry</td>\n",
       "      <td>22</td>\n",
       "    </tr>\n",
       "    <tr>\n",
       "      <th>2</th>\n",
       "      <td>Topalov, Veselin</td>\n",
       "      <td>10</td>\n",
       "    </tr>\n",
       "    <tr>\n",
       "      <th>3</th>\n",
       "      <td>Anand, Viswanathan</td>\n",
       "      <td>8</td>\n",
       "    </tr>\n",
       "    <tr>\n",
       "      <th>4</th>\n",
       "      <td>Kasparov, Gary</td>\n",
       "      <td>1</td>\n",
       "    </tr>\n",
       "    <tr>\n",
       "      <th>5</th>\n",
       "      <td>Kramnik, Vladimir</td>\n",
       "      <td>1</td>\n",
       "    </tr>\n",
       "  </tbody>\n",
       "</table>\n",
       "</div>"
      ],
      "text/plain": [
       "                index  name\n",
       "0     Carlsen, Magnus    72\n",
       "1     Kasparov, Garry    22\n",
       "2    Topalov, Veselin    10\n",
       "3  Anand, Viswanathan     8\n",
       "4      Kasparov, Gary     1\n",
       "5   Kramnik, Vladimir     1"
      ]
     },
     "execution_count": 13,
     "metadata": {},
     "output_type": "execute_result"
    }
   ],
   "source": [
    "names"
   ]
  },
  {
   "cell_type": "code",
   "execution_count": 103,
   "id": "d7391bbe",
   "metadata": {},
   "outputs": [
    {
     "data": {
      "image/png": "[encoded data removed]",
      "text/plain": [
       "<Figure size 576x396 with 1 Axes>"
      ]
     },
     "metadata": {},
     "output_type": "display_data"
    }
   ],
   "source": [
    "plt.bar(names['index'], names['name'])\n",
    "plt.xticks(rotation = 90)\n",
    "plt.ylabel('Wins', labelpad=20, size = 15)\n",
    "plt.title('Wins by number 1')\n",
    "plt.show()"
   ]
  },
  {
   "cell_type": "code",
   "execution_count": 15,
   "id": "96ca5297",
   "metadata": {},
   "outputs": [
    {
     "data": {
      "text/html": [
       "<div>\n",
       "<style scoped>\n",
       "    .dataframe tbody tr th:only-of-type {\n",
       "        vertical-align: middle;\n",
       "    }\n",
       "\n",
       "    .dataframe tbody tr th {\n",
       "        vertical-align: top;\n",
       "    }\n",
       "\n",
       "    .dataframe thead th {\n",
       "        text-align: right;\n",
       "    }\n",
       "</style>\n",
       "<table border=\"1\" class=\"dataframe\">\n",
       "  <thead>\n",
       "    <tr style=\"text-align: right;\">\n",
       "      <th></th>\n",
       "      <th>ranking_date</th>\n",
       "      <th>rank</th>\n",
       "      <th>name</th>\n",
       "      <th>title</th>\n",
       "      <th>country</th>\n",
       "      <th>rating</th>\n",
       "      <th>games</th>\n",
       "      <th>birth_year</th>\n",
       "    </tr>\n",
       "  </thead>\n",
       "  <tbody>\n",
       "    <tr>\n",
       "      <th>3835</th>\n",
       "      <td>2009-11-27</td>\n",
       "      <td>2</td>\n",
       "      <td>Carlsen, Magnus</td>\n",
       "      <td>g</td>\n",
       "      <td>NOR</td>\n",
       "      <td>2801</td>\n",
       "      <td>10</td>\n",
       "      <td>1990</td>\n",
       "    </tr>\n",
       "    <tr>\n",
       "      <th>4440</th>\n",
       "      <td>2010-11-27</td>\n",
       "      <td>2</td>\n",
       "      <td>Carlsen, Magnus</td>\n",
       "      <td>g</td>\n",
       "      <td>NOR</td>\n",
       "      <td>2802</td>\n",
       "      <td>14</td>\n",
       "      <td>1990</td>\n",
       "    </tr>\n",
       "    <tr>\n",
       "      <th>4644</th>\n",
       "      <td>2011-03-27</td>\n",
       "      <td>2</td>\n",
       "      <td>Carlsen, Magnus</td>\n",
       "      <td>g</td>\n",
       "      <td>NOR</td>\n",
       "      <td>2815</td>\n",
       "      <td>13</td>\n",
       "      <td>1990</td>\n",
       "    </tr>\n",
       "    <tr>\n",
       "      <th>4744</th>\n",
       "      <td>2011-05-27</td>\n",
       "      <td>2</td>\n",
       "      <td>Carlsen, Magnus</td>\n",
       "      <td>g</td>\n",
       "      <td>NOR</td>\n",
       "      <td>2815</td>\n",
       "      <td>0</td>\n",
       "      <td>1990</td>\n",
       "    </tr>\n",
       "  </tbody>\n",
       "</table>\n",
       "</div>"
      ],
      "text/plain": [
       "     ranking_date  rank             name title country  rating  games  \\\n",
       "3835   2009-11-27     2  Carlsen, Magnus     g     NOR    2801     10   \n",
       "4440   2010-11-27     2  Carlsen, Magnus     g     NOR    2802     14   \n",
       "4644   2011-03-27     2  Carlsen, Magnus     g     NOR    2815     13   \n",
       "4744   2011-05-27     2  Carlsen, Magnus     g     NOR    2815      0   \n",
       "\n",
       "      birth_year  \n",
       "3835        1990  \n",
       "4440        1990  \n",
       "4644        1990  \n",
       "4744        1990  "
      ]
     },
     "execution_count": 15,
     "metadata": {},
     "output_type": "execute_result"
    }
   ],
   "source": [
    "df.loc[(df['rank'] == 2) & (df['name'] == \"Carlsen, Magnus\")]"
   ]
  },
  {
   "cell_type": "markdown",
   "id": "763809e3",
   "metadata": {},
   "source": [
    "<br>"
   ]
  },
  {
   "cell_type": "markdown",
   "id": "4341c0fa",
   "metadata": {},
   "source": [
    "### Doing a time series analysis of number 1 ranked players to check their progress"
   ]
  },
  {
   "cell_type": "code",
   "execution_count": 16,
   "id": "b4bd31d8",
   "metadata": {},
   "outputs": [],
   "source": [
    "magnus = df.loc[df['name'] == 'Carlsen, Magnus']\n",
    "Kasparov = df.loc[df['name'] == 'Kasparov, Garry']\n",
    "Topalov = df.loc[df['name'] == 'Topalov, Veselin']\n",
    "Anand = df.loc[df['name'] == 'Anand, Viswanathan']\n",
    "Kramnik = df.loc[df['name'] == 'Kramnik, Vladimir']"
   ]
  },
  {
   "cell_type": "code",
   "execution_count": null,
   "id": "b4c9c004",
   "metadata": {},
   "outputs": [],
   "source": []
  },
  {
   "cell_type": "code",
   "execution_count": 17,
   "id": "54b3d15d",
   "metadata": {
    "scrolled": true
   },
   "outputs": [
    {
     "data": {
      "text/html": [
       "<div>\n",
       "<style scoped>\n",
       "    .dataframe tbody tr th:only-of-type {\n",
       "        vertical-align: middle;\n",
       "    }\n",
       "\n",
       "    .dataframe tbody tr th {\n",
       "        vertical-align: top;\n",
       "    }\n",
       "\n",
       "    .dataframe thead th {\n",
       "        text-align: right;\n",
       "    }\n",
       "</style>\n",
       "<table border=\"1\" class=\"dataframe\">\n",
       "  <thead>\n",
       "    <tr style=\"text-align: right;\">\n",
       "      <th></th>\n",
       "      <th>ranking_date</th>\n",
       "      <th>rank</th>\n",
       "      <th>name</th>\n",
       "      <th>title</th>\n",
       "      <th>country</th>\n",
       "      <th>rating</th>\n",
       "      <th>games</th>\n",
       "      <th>birth_year</th>\n",
       "    </tr>\n",
       "  </thead>\n",
       "  <tbody>\n",
       "    <tr>\n",
       "      <th>2309</th>\n",
       "      <td>2006-01-27</td>\n",
       "      <td>89</td>\n",
       "      <td>Carlsen, Magnus</td>\n",
       "      <td>g</td>\n",
       "      <td>NOR</td>\n",
       "      <td>2625</td>\n",
       "      <td>40</td>\n",
       "      <td>1990</td>\n",
       "    </tr>\n",
       "    <tr>\n",
       "      <th>2384</th>\n",
       "      <td>2006-04-27</td>\n",
       "      <td>63</td>\n",
       "      <td>Carlsen, Magnus</td>\n",
       "      <td>g</td>\n",
       "      <td>NOR</td>\n",
       "      <td>2646</td>\n",
       "      <td>13</td>\n",
       "      <td>1990</td>\n",
       "    </tr>\n",
       "    <tr>\n",
       "      <th>2453</th>\n",
       "      <td>2006-07-27</td>\n",
       "      <td>31</td>\n",
       "      <td>Carlsen, Magnus</td>\n",
       "      <td>g</td>\n",
       "      <td>NOR</td>\n",
       "      <td>2675</td>\n",
       "      <td>27</td>\n",
       "      <td>1990</td>\n",
       "    </tr>\n",
       "    <tr>\n",
       "      <th>2544</th>\n",
       "      <td>2006-10-27</td>\n",
       "      <td>21</td>\n",
       "      <td>Carlsen, Magnus</td>\n",
       "      <td>g</td>\n",
       "      <td>NOR</td>\n",
       "      <td>2698</td>\n",
       "      <td>46</td>\n",
       "      <td>1990</td>\n",
       "    </tr>\n",
       "    <tr>\n",
       "      <th>2647</th>\n",
       "      <td>2007-01-27</td>\n",
       "      <td>24</td>\n",
       "      <td>Carlsen, Magnus</td>\n",
       "      <td>g</td>\n",
       "      <td>NOR</td>\n",
       "      <td>2690</td>\n",
       "      <td>11</td>\n",
       "      <td>1990</td>\n",
       "    </tr>\n",
       "    <tr>\n",
       "      <th>...</th>\n",
       "      <td>...</td>\n",
       "      <td>...</td>\n",
       "      <td>...</td>\n",
       "      <td>...</td>\n",
       "      <td>...</td>\n",
       "      <td>...</td>\n",
       "      <td>...</td>\n",
       "      <td>...</td>\n",
       "    </tr>\n",
       "    <tr>\n",
       "      <th>11006</th>\n",
       "      <td>2017-02-27</td>\n",
       "      <td>1</td>\n",
       "      <td>Carlsen, Magnus</td>\n",
       "      <td>g</td>\n",
       "      <td>NOR</td>\n",
       "      <td>2838</td>\n",
       "      <td>13</td>\n",
       "      <td>1990</td>\n",
       "    </tr>\n",
       "    <tr>\n",
       "      <th>11107</th>\n",
       "      <td>2017-03-27</td>\n",
       "      <td>1</td>\n",
       "      <td>Carlsen, Magnus</td>\n",
       "      <td>g</td>\n",
       "      <td>NOR</td>\n",
       "      <td>2838</td>\n",
       "      <td>0</td>\n",
       "      <td>1990</td>\n",
       "    </tr>\n",
       "    <tr>\n",
       "      <th>11207</th>\n",
       "      <td>2017-04-27</td>\n",
       "      <td>1</td>\n",
       "      <td>Carlsen, Magnus</td>\n",
       "      <td>g</td>\n",
       "      <td>NOR</td>\n",
       "      <td>2838</td>\n",
       "      <td>0</td>\n",
       "      <td>1990</td>\n",
       "    </tr>\n",
       "    <tr>\n",
       "      <th>11308</th>\n",
       "      <td>2017-05-27</td>\n",
       "      <td>1</td>\n",
       "      <td>Carlsen, Magnus</td>\n",
       "      <td>g</td>\n",
       "      <td>NOR</td>\n",
       "      <td>2832</td>\n",
       "      <td>7</td>\n",
       "      <td>1990</td>\n",
       "    </tr>\n",
       "    <tr>\n",
       "      <th>11411</th>\n",
       "      <td>2017-06-27</td>\n",
       "      <td>1</td>\n",
       "      <td>Carlsen, Magnus</td>\n",
       "      <td>g</td>\n",
       "      <td>NOR</td>\n",
       "      <td>2832</td>\n",
       "      <td>0</td>\n",
       "      <td>1990</td>\n",
       "    </tr>\n",
       "  </tbody>\n",
       "</table>\n",
       "<p>92 rows × 8 columns</p>\n",
       "</div>"
      ],
      "text/plain": [
       "      ranking_date  rank             name title country  rating  games  \\\n",
       "2309    2006-01-27    89  Carlsen, Magnus     g     NOR    2625     40   \n",
       "2384    2006-04-27    63  Carlsen, Magnus     g     NOR    2646     13   \n",
       "2453    2006-07-27    31  Carlsen, Magnus     g     NOR    2675     27   \n",
       "2544    2006-10-27    21  Carlsen, Magnus     g     NOR    2698     46   \n",
       "2647    2007-01-27    24  Carlsen, Magnus     g     NOR    2690     11   \n",
       "...            ...   ...              ...   ...     ...     ...    ...   \n",
       "11006   2017-02-27     1  Carlsen, Magnus     g     NOR    2838     13   \n",
       "11107   2017-03-27     1  Carlsen, Magnus     g     NOR    2838      0   \n",
       "11207   2017-04-27     1  Carlsen, Magnus     g     NOR    2838      0   \n",
       "11308   2017-05-27     1  Carlsen, Magnus     g     NOR    2832      7   \n",
       "11411   2017-06-27     1  Carlsen, Magnus     g     NOR    2832      0   \n",
       "\n",
       "       birth_year  \n",
       "2309         1990  \n",
       "2384         1990  \n",
       "2453         1990  \n",
       "2544         1990  \n",
       "2647         1990  \n",
       "...           ...  \n",
       "11006        1990  \n",
       "11107        1990  \n",
       "11207        1990  \n",
       "11308        1990  \n",
       "11411        1990  \n",
       "\n",
       "[92 rows x 8 columns]"
      ]
     },
     "execution_count": 17,
     "metadata": {},
     "output_type": "execute_result"
    }
   ],
   "source": [
    "magnus = magnus.sort_values(by = 'ranking_date')\n",
    "magnus"
   ]
  },
  {
   "cell_type": "code",
   "execution_count": 18,
   "id": "3ca819e1",
   "metadata": {},
   "outputs": [
    {
     "data": {
      "text/plain": [
       "ranking_date    datetime64[ns]\n",
       "rank                     int64\n",
       "name                    object\n",
       "title                   object\n",
       "country                 object\n",
       "rating                   int64\n",
       "games                    int64\n",
       "birth_year               int64\n",
       "dtype: object"
      ]
     },
     "execution_count": 18,
     "metadata": {},
     "output_type": "execute_result"
    }
   ],
   "source": [
    "magnus.dtypes"
   ]
  },
  {
   "cell_type": "code",
   "execution_count": 19,
   "id": "897baad8",
   "metadata": {
    "scrolled": false
   },
   "outputs": [
    {
     "data": {
      "text/html": [
       "<div>\n",
       "<style scoped>\n",
       "    .dataframe tbody tr th:only-of-type {\n",
       "        vertical-align: middle;\n",
       "    }\n",
       "\n",
       "    .dataframe tbody tr th {\n",
       "        vertical-align: top;\n",
       "    }\n",
       "\n",
       "    .dataframe thead th {\n",
       "        text-align: right;\n",
       "    }\n",
       "</style>\n",
       "<table border=\"1\" class=\"dataframe\">\n",
       "  <thead>\n",
       "    <tr style=\"text-align: right;\">\n",
       "      <th></th>\n",
       "      <th>ranking_date</th>\n",
       "      <th>rank</th>\n",
       "      <th>name</th>\n",
       "      <th>title</th>\n",
       "      <th>country</th>\n",
       "      <th>rating</th>\n",
       "      <th>games</th>\n",
       "      <th>birth_year</th>\n",
       "    </tr>\n",
       "  </thead>\n",
       "  <tbody>\n",
       "    <tr>\n",
       "      <th>0</th>\n",
       "      <td>2000-07-27</td>\n",
       "      <td>1</td>\n",
       "      <td>Kasparov, Garry</td>\n",
       "      <td>g</td>\n",
       "      <td>RUS</td>\n",
       "      <td>2849</td>\n",
       "      <td>35</td>\n",
       "      <td>1963</td>\n",
       "    </tr>\n",
       "    <tr>\n",
       "      <th>100</th>\n",
       "      <td>2000-10-27</td>\n",
       "      <td>1</td>\n",
       "      <td>Kasparov, Garry</td>\n",
       "      <td>g</td>\n",
       "      <td>RUS</td>\n",
       "      <td>2849</td>\n",
       "      <td>0</td>\n",
       "      <td>1963</td>\n",
       "    </tr>\n",
       "    <tr>\n",
       "      <th>300</th>\n",
       "      <td>2001-04-27</td>\n",
       "      <td>1</td>\n",
       "      <td>Kasparov, Garry</td>\n",
       "      <td>g</td>\n",
       "      <td>RUS</td>\n",
       "      <td>2827</td>\n",
       "      <td>38</td>\n",
       "      <td>1963</td>\n",
       "    </tr>\n",
       "    <tr>\n",
       "      <th>400</th>\n",
       "      <td>2001-07-27</td>\n",
       "      <td>1</td>\n",
       "      <td>Kasparov, Garry</td>\n",
       "      <td>g</td>\n",
       "      <td>RUS</td>\n",
       "      <td>2838</td>\n",
       "      <td>10</td>\n",
       "      <td>1963</td>\n",
       "    </tr>\n",
       "    <tr>\n",
       "      <th>500</th>\n",
       "      <td>2001-10-27</td>\n",
       "      <td>1</td>\n",
       "      <td>Kasparov, Garry</td>\n",
       "      <td>g</td>\n",
       "      <td>RUS</td>\n",
       "      <td>2838</td>\n",
       "      <td>0</td>\n",
       "      <td>1963</td>\n",
       "    </tr>\n",
       "    <tr>\n",
       "      <th>600</th>\n",
       "      <td>2002-01-27</td>\n",
       "      <td>1</td>\n",
       "      <td>Kasparov, Garry</td>\n",
       "      <td>g</td>\n",
       "      <td>RUS</td>\n",
       "      <td>2838</td>\n",
       "      <td>0</td>\n",
       "      <td>1963</td>\n",
       "    </tr>\n",
       "    <tr>\n",
       "      <th>704</th>\n",
       "      <td>2002-04-27</td>\n",
       "      <td>1</td>\n",
       "      <td>Kasparov, Garry</td>\n",
       "      <td>g</td>\n",
       "      <td>RUS</td>\n",
       "      <td>2838</td>\n",
       "      <td>12</td>\n",
       "      <td>1963</td>\n",
       "    </tr>\n",
       "    <tr>\n",
       "      <th>809</th>\n",
       "      <td>2002-07-27</td>\n",
       "      <td>1</td>\n",
       "      <td>Kasparov, Garry</td>\n",
       "      <td>g</td>\n",
       "      <td>RUS</td>\n",
       "      <td>2838</td>\n",
       "      <td>0</td>\n",
       "      <td>1963</td>\n",
       "    </tr>\n",
       "    <tr>\n",
       "      <th>910</th>\n",
       "      <td>2002-10-27</td>\n",
       "      <td>1</td>\n",
       "      <td>Kasparov, Garry</td>\n",
       "      <td>g</td>\n",
       "      <td>RUS</td>\n",
       "      <td>2836</td>\n",
       "      <td>0</td>\n",
       "      <td>1963</td>\n",
       "    </tr>\n",
       "    <tr>\n",
       "      <th>1012</th>\n",
       "      <td>2003-01-27</td>\n",
       "      <td>1</td>\n",
       "      <td>Kasparov, Garry</td>\n",
       "      <td>g</td>\n",
       "      <td>RUS</td>\n",
       "      <td>2847</td>\n",
       "      <td>9</td>\n",
       "      <td>1963</td>\n",
       "    </tr>\n",
       "    <tr>\n",
       "      <th>1112</th>\n",
       "      <td>2003-04-27</td>\n",
       "      <td>1</td>\n",
       "      <td>Kasparov, Garry</td>\n",
       "      <td>g</td>\n",
       "      <td>RUS</td>\n",
       "      <td>2830</td>\n",
       "      <td>12</td>\n",
       "      <td>1963</td>\n",
       "    </tr>\n",
       "    <tr>\n",
       "      <th>1213</th>\n",
       "      <td>2003-07-27</td>\n",
       "      <td>1</td>\n",
       "      <td>Kasparov, Garry</td>\n",
       "      <td>g</td>\n",
       "      <td>RUS</td>\n",
       "      <td>2830</td>\n",
       "      <td>0</td>\n",
       "      <td>1963</td>\n",
       "    </tr>\n",
       "    <tr>\n",
       "      <th>1314</th>\n",
       "      <td>2003-10-27</td>\n",
       "      <td>1</td>\n",
       "      <td>Kasparov, Garry</td>\n",
       "      <td>g</td>\n",
       "      <td>RUS</td>\n",
       "      <td>2830</td>\n",
       "      <td>0</td>\n",
       "      <td>1963</td>\n",
       "    </tr>\n",
       "    <tr>\n",
       "      <th>1414</th>\n",
       "      <td>2004-01-27</td>\n",
       "      <td>1</td>\n",
       "      <td>Kasparov, Garry</td>\n",
       "      <td>g</td>\n",
       "      <td>RUS</td>\n",
       "      <td>2831</td>\n",
       "      <td>6</td>\n",
       "      <td>1963</td>\n",
       "    </tr>\n",
       "    <tr>\n",
       "      <th>1514</th>\n",
       "      <td>2004-04-27</td>\n",
       "      <td>1</td>\n",
       "      <td>Kasparov, Garry</td>\n",
       "      <td>g</td>\n",
       "      <td>RUS</td>\n",
       "      <td>2817</td>\n",
       "      <td>12</td>\n",
       "      <td>1963</td>\n",
       "    </tr>\n",
       "    <tr>\n",
       "      <th>1614</th>\n",
       "      <td>2004-07-27</td>\n",
       "      <td>1</td>\n",
       "      <td>Kasparov, Garry</td>\n",
       "      <td>g</td>\n",
       "      <td>RUS</td>\n",
       "      <td>2817</td>\n",
       "      <td>0</td>\n",
       "      <td>1963</td>\n",
       "    </tr>\n",
       "    <tr>\n",
       "      <th>1714</th>\n",
       "      <td>2004-10-27</td>\n",
       "      <td>1</td>\n",
       "      <td>Kasparov, Garry</td>\n",
       "      <td>g</td>\n",
       "      <td>RUS</td>\n",
       "      <td>2813</td>\n",
       "      <td>6</td>\n",
       "      <td>1963</td>\n",
       "    </tr>\n",
       "    <tr>\n",
       "      <th>1818</th>\n",
       "      <td>2005-01-27</td>\n",
       "      <td>1</td>\n",
       "      <td>Kasparov, Garry</td>\n",
       "      <td>g</td>\n",
       "      <td>RUS</td>\n",
       "      <td>2804</td>\n",
       "      <td>16</td>\n",
       "      <td>1963</td>\n",
       "    </tr>\n",
       "    <tr>\n",
       "      <th>1918</th>\n",
       "      <td>2005-04-27</td>\n",
       "      <td>1</td>\n",
       "      <td>Kasparov, Garry</td>\n",
       "      <td>g</td>\n",
       "      <td>RUS</td>\n",
       "      <td>2812</td>\n",
       "      <td>12</td>\n",
       "      <td>1963</td>\n",
       "    </tr>\n",
       "    <tr>\n",
       "      <th>2019</th>\n",
       "      <td>2005-07-27</td>\n",
       "      <td>1</td>\n",
       "      <td>Kasparov, Garry</td>\n",
       "      <td>g</td>\n",
       "      <td>RUS</td>\n",
       "      <td>2812</td>\n",
       "      <td>0</td>\n",
       "      <td>1963</td>\n",
       "    </tr>\n",
       "    <tr>\n",
       "      <th>2120</th>\n",
       "      <td>2005-10-27</td>\n",
       "      <td>1</td>\n",
       "      <td>Kasparov, Garry</td>\n",
       "      <td>g</td>\n",
       "      <td>RUS</td>\n",
       "      <td>2812</td>\n",
       "      <td>0</td>\n",
       "      <td>1963</td>\n",
       "    </tr>\n",
       "    <tr>\n",
       "      <th>2221</th>\n",
       "      <td>2006-01-27</td>\n",
       "      <td>1</td>\n",
       "      <td>Kasparov, Garry</td>\n",
       "      <td>g</td>\n",
       "      <td>RUS</td>\n",
       "      <td>2812</td>\n",
       "      <td>0</td>\n",
       "      <td>1963</td>\n",
       "    </tr>\n",
       "  </tbody>\n",
       "</table>\n",
       "</div>"
      ],
      "text/plain": [
       "     ranking_date  rank             name title country  rating  games  \\\n",
       "0      2000-07-27     1  Kasparov, Garry     g     RUS    2849     35   \n",
       "100    2000-10-27     1  Kasparov, Garry     g     RUS    2849      0   \n",
       "300    2001-04-27     1  Kasparov, Garry     g     RUS    2827     38   \n",
       "400    2001-07-27     1  Kasparov, Garry     g     RUS    2838     10   \n",
       "500    2001-10-27     1  Kasparov, Garry     g     RUS    2838      0   \n",
       "600    2002-01-27     1  Kasparov, Garry     g     RUS    2838      0   \n",
       "704    2002-04-27     1  Kasparov, Garry     g     RUS    2838     12   \n",
       "809    2002-07-27     1  Kasparov, Garry     g     RUS    2838      0   \n",
       "910    2002-10-27     1  Kasparov, Garry     g     RUS    2836      0   \n",
       "1012   2003-01-27     1  Kasparov, Garry     g     RUS    2847      9   \n",
       "1112   2003-04-27     1  Kasparov, Garry     g     RUS    2830     12   \n",
       "1213   2003-07-27     1  Kasparov, Garry     g     RUS    2830      0   \n",
       "1314   2003-10-27     1  Kasparov, Garry     g     RUS    2830      0   \n",
       "1414   2004-01-27     1  Kasparov, Garry     g     RUS    2831      6   \n",
       "1514   2004-04-27     1  Kasparov, Garry     g     RUS    2817     12   \n",
       "1614   2004-07-27     1  Kasparov, Garry     g     RUS    2817      0   \n",
       "1714   2004-10-27     1  Kasparov, Garry     g     RUS    2813      6   \n",
       "1818   2005-01-27     1  Kasparov, Garry     g     RUS    2804     16   \n",
       "1918   2005-04-27     1  Kasparov, Garry     g     RUS    2812     12   \n",
       "2019   2005-07-27     1  Kasparov, Garry     g     RUS    2812      0   \n",
       "2120   2005-10-27     1  Kasparov, Garry     g     RUS    2812      0   \n",
       "2221   2006-01-27     1  Kasparov, Garry     g     RUS    2812      0   \n",
       "\n",
       "      birth_year  \n",
       "0           1963  \n",
       "100         1963  \n",
       "300         1963  \n",
       "400         1963  \n",
       "500         1963  \n",
       "600         1963  \n",
       "704         1963  \n",
       "809         1963  \n",
       "910         1963  \n",
       "1012        1963  \n",
       "1112        1963  \n",
       "1213        1963  \n",
       "1314        1963  \n",
       "1414        1963  \n",
       "1514        1963  \n",
       "1614        1963  \n",
       "1714        1963  \n",
       "1818        1963  \n",
       "1918        1963  \n",
       "2019        1963  \n",
       "2120        1963  \n",
       "2221        1963  "
      ]
     },
     "execution_count": 19,
     "metadata": {},
     "output_type": "execute_result"
    }
   ],
   "source": [
    "Kasparov = Kasparov.sort_values(by = 'ranking_date')\n",
    "Kasparov"
   ]
  },
  {
   "cell_type": "code",
   "execution_count": 104,
   "id": "f691a292",
   "metadata": {
    "scrolled": false
   },
   "outputs": [
    {
     "data": {
      "image/png": "[encoded data removed]",
      "text/plain": [
       "<Figure size 1800x720 with 1 Axes>"
      ]
     },
     "metadata": {},
     "output_type": "display_data"
    }
   ],
   "source": [
    "colors = ['#e41a1c','#377eb8','#4daf4a','#984ea3','#ff7f00']\n",
    "plt.figure(figsize = (25,10))\n",
    "plt.plot(magnus['ranking_date'], magnus['rank'], zorder = 10, label = 'Magnus Carlsen', c = colors[0])\n",
    "plt.plot(Kasparov['ranking_date'], Kasparov['rank'], label = 'Garry Kasparov', c = colors[1])\n",
    "plt.plot(Topalov['ranking_date'], Topalov['rank'], label = 'Veselin Topalov', c = colors[2])\n",
    "plt.plot(Anand['ranking_date'], Anand['rank'], label = 'Viswanathan Anand', c = colors[3])\n",
    "plt.plot(Kramnik['ranking_date'], Kramnik['rank'], label = 'Vladimir Kramnik', c = colors[4])\n",
    "plt.legend(fontsize = 20)\n",
    "plt.xticks(rotation = 90, size = 14)\n",
    "plt.yticks(size = 14)\n",
    "plt.ylabel('Rank', rotation = 90, size = 30, labelpad = 20)\n",
    "plt.xlabel('Years', size = 30, labelpad = 20)\n",
    "plt.title(\"Time series analysis of ranked 1 players\", pad = 20, size = 40)\n",
    "plt.ylim((max(magnus['rank']) - 30), (min(magnus['rank']) - 20))\n",
    "plt.show()"
   ]
  },
  {
   "cell_type": "markdown",
   "id": "8bd05e31",
   "metadata": {},
   "source": [
    "### Plotting a geo-scatter too see where most players come from"
   ]
  },
  {
   "cell_type": "code",
   "execution_count": 21,
   "id": "e229df27",
   "metadata": {},
   "outputs": [
    {
     "data": {
      "text/html": [
       "<div>\n",
       "<style scoped>\n",
       "    .dataframe tbody tr th:only-of-type {\n",
       "        vertical-align: middle;\n",
       "    }\n",
       "\n",
       "    .dataframe tbody tr th {\n",
       "        vertical-align: top;\n",
       "    }\n",
       "\n",
       "    .dataframe thead th {\n",
       "        text-align: right;\n",
       "    }\n",
       "</style>\n",
       "<table border=\"1\" class=\"dataframe\">\n",
       "  <thead>\n",
       "    <tr style=\"text-align: right;\">\n",
       "      <th></th>\n",
       "      <th>rank</th>\n",
       "      <th>rating</th>\n",
       "      <th>games</th>\n",
       "      <th>birth_year</th>\n",
       "    </tr>\n",
       "    <tr>\n",
       "      <th>name</th>\n",
       "      <th></th>\n",
       "      <th></th>\n",
       "      <th></th>\n",
       "      <th></th>\n",
       "    </tr>\n",
       "  </thead>\n",
       "  <tbody>\n",
       "    <tr>\n",
       "      <th>Acs, Peter</th>\n",
       "      <td>272</td>\n",
       "      <td>7829</td>\n",
       "      <td>59</td>\n",
       "      <td>5943</td>\n",
       "    </tr>\n",
       "    <tr>\n",
       "      <th>Adams, Michael</th>\n",
       "      <td>2027</td>\n",
       "      <td>311621</td>\n",
       "      <td>1269</td>\n",
       "      <td>224694</td>\n",
       "    </tr>\n",
       "    <tr>\n",
       "      <th>Adhiban, B.</th>\n",
       "      <td>1582</td>\n",
       "      <td>56061</td>\n",
       "      <td>163</td>\n",
       "      <td>41832</td>\n",
       "    </tr>\n",
       "    <tr>\n",
       "      <th>Adianto, Utut</th>\n",
       "      <td>100</td>\n",
       "      <td>2598</td>\n",
       "      <td>18</td>\n",
       "      <td>1965</td>\n",
       "    </tr>\n",
       "    <tr>\n",
       "      <th>Afromeev, Vladimir</th>\n",
       "      <td>735</td>\n",
       "      <td>23730</td>\n",
       "      <td>61</td>\n",
       "      <td>17586</td>\n",
       "    </tr>\n",
       "    <tr>\n",
       "      <th>...</th>\n",
       "      <td>...</td>\n",
       "      <td>...</td>\n",
       "      <td>...</td>\n",
       "      <td>...</td>\n",
       "    </tr>\n",
       "    <tr>\n",
       "      <th>Zhang, Pengxiang</th>\n",
       "      <td>1194</td>\n",
       "      <td>39569</td>\n",
       "      <td>254</td>\n",
       "      <td>29700</td>\n",
       "    </tr>\n",
       "    <tr>\n",
       "      <th>Zhang, Zhong</th>\n",
       "      <td>1558</td>\n",
       "      <td>65986</td>\n",
       "      <td>439</td>\n",
       "      <td>49450</td>\n",
       "    </tr>\n",
       "    <tr>\n",
       "      <th>Zhigalko, Sergei</th>\n",
       "      <td>5074</td>\n",
       "      <td>170642</td>\n",
       "      <td>614</td>\n",
       "      <td>127296</td>\n",
       "    </tr>\n",
       "    <tr>\n",
       "      <th>Zhou, Jianchao</th>\n",
       "      <td>675</td>\n",
       "      <td>21249</td>\n",
       "      <td>149</td>\n",
       "      <td>15904</td>\n",
       "    </tr>\n",
       "    <tr>\n",
       "      <th>Zvjaginsev, Vadim</th>\n",
       "      <td>7381</td>\n",
       "      <td>279407</td>\n",
       "      <td>824</td>\n",
       "      <td>207480</td>\n",
       "    </tr>\n",
       "  </tbody>\n",
       "</table>\n",
       "<p>346 rows × 4 columns</p>\n",
       "</div>"
      ],
      "text/plain": [
       "                    rank  rating  games  birth_year\n",
       "name                                               \n",
       "Acs, Peter           272    7829     59        5943\n",
       "Adams, Michael      2027  311621   1269      224694\n",
       "Adhiban, B.         1582   56061    163       41832\n",
       "Adianto, Utut        100    2598     18        1965\n",
       "Afromeev, Vladimir   735   23730     61       17586\n",
       "...                  ...     ...    ...         ...\n",
       "Zhang, Pengxiang    1194   39569    254       29700\n",
       "Zhang, Zhong        1558   65986    439       49450\n",
       "Zhigalko, Sergei    5074  170642    614      127296\n",
       "Zhou, Jianchao       675   21249    149       15904\n",
       "Zvjaginsev, Vadim   7381  279407    824      207480\n",
       "\n",
       "[346 rows x 4 columns]"
      ]
     },
     "execution_count": 21,
     "metadata": {},
     "output_type": "execute_result"
    }
   ],
   "source": [
    "df.groupby(df['name']).sum()"
   ]
  },
  {
   "cell_type": "code",
   "execution_count": 22,
   "id": "32752f2e",
   "metadata": {
    "scrolled": true
   },
   "outputs": [
    {
     "data": {
      "text/plain": [
       "346"
      ]
     },
     "execution_count": 22,
     "metadata": {},
     "output_type": "execute_result"
    }
   ],
   "source": [
    "len(df['name'].unique())"
   ]
  },
  {
   "cell_type": "code",
   "execution_count": 23,
   "id": "8782365c",
   "metadata": {},
   "outputs": [
    {
     "data": {
      "text/html": [
       "<div>\n",
       "<style scoped>\n",
       "    .dataframe tbody tr th:only-of-type {\n",
       "        vertical-align: middle;\n",
       "    }\n",
       "\n",
       "    .dataframe tbody tr th {\n",
       "        vertical-align: top;\n",
       "    }\n",
       "\n",
       "    .dataframe thead th {\n",
       "        text-align: right;\n",
       "    }\n",
       "</style>\n",
       "<table border=\"1\" class=\"dataframe\">\n",
       "  <thead>\n",
       "    <tr style=\"text-align: right;\">\n",
       "      <th></th>\n",
       "      <th>name</th>\n",
       "    </tr>\n",
       "  </thead>\n",
       "  <tbody>\n",
       "    <tr>\n",
       "      <th>0</th>\n",
       "      <td>Kasparov, Garry</td>\n",
       "    </tr>\n",
       "    <tr>\n",
       "      <th>1</th>\n",
       "      <td>Kramnik, Vladimir</td>\n",
       "    </tr>\n",
       "    <tr>\n",
       "      <th>2</th>\n",
       "      <td>Anand, Viswanathan</td>\n",
       "    </tr>\n",
       "    <tr>\n",
       "      <th>3</th>\n",
       "      <td>Morozevich, Alexander</td>\n",
       "    </tr>\n",
       "    <tr>\n",
       "      <th>4</th>\n",
       "      <td>Adams, Michael</td>\n",
       "    </tr>\n",
       "    <tr>\n",
       "      <th>...</th>\n",
       "      <td>...</td>\n",
       "    </tr>\n",
       "    <tr>\n",
       "      <th>341</th>\n",
       "      <td>Salem, A.R. Saleh</td>\n",
       "    </tr>\n",
       "    <tr>\n",
       "      <th>342</th>\n",
       "      <td>Cordova, Emilio</td>\n",
       "    </tr>\n",
       "    <tr>\n",
       "      <th>343</th>\n",
       "      <td>Anton Guijarro, David</td>\n",
       "    </tr>\n",
       "    <tr>\n",
       "      <th>344</th>\n",
       "      <td>Mareco, Sandro</td>\n",
       "    </tr>\n",
       "    <tr>\n",
       "      <th>345</th>\n",
       "      <td>Grandelius, Nils</td>\n",
       "    </tr>\n",
       "  </tbody>\n",
       "</table>\n",
       "<p>346 rows × 1 columns</p>\n",
       "</div>"
      ],
      "text/plain": [
       "                      name\n",
       "0          Kasparov, Garry\n",
       "1        Kramnik, Vladimir\n",
       "2       Anand, Viswanathan\n",
       "3    Morozevich, Alexander\n",
       "4           Adams, Michael\n",
       "..                     ...\n",
       "341      Salem, A.R. Saleh\n",
       "342        Cordova, Emilio\n",
       "343  Anton Guijarro, David\n",
       "344         Mareco, Sandro\n",
       "345       Grandelius, Nils\n",
       "\n",
       "[346 rows x 1 columns]"
      ]
     },
     "execution_count": 23,
     "metadata": {},
     "output_type": "execute_result"
    }
   ],
   "source": [
    "uniqueName = df['name'].unique()\n",
    "uniqueName = pd.DataFrame(uniqueName)\n",
    "uniqueName.columns = ['name']\n",
    "uniqueName"
   ]
  },
  {
   "cell_type": "code",
   "execution_count": 24,
   "id": "05a2d261",
   "metadata": {},
   "outputs": [
    {
     "data": {
      "text/plain": [
       "'RUS'"
      ]
     },
     "execution_count": 24,
     "metadata": {},
     "output_type": "execute_result"
    }
   ],
   "source": [
    "\n",
    "(df.loc[(df.name == 'Kasparov, Garry'),['country']]).country.unique()[0]"
   ]
  },
  {
   "cell_type": "code",
   "execution_count": 25,
   "id": "53e44f74",
   "metadata": {},
   "outputs": [],
   "source": [
    "l1 = []\n",
    "for i in uniqueName['name']:\n",
    "    l1.append((df.loc[(df.name == i),['country']]).country.unique()[0])\n"
   ]
  },
  {
   "cell_type": "code",
   "execution_count": 26,
   "id": "cacb69c7",
   "metadata": {},
   "outputs": [
    {
     "data": {
      "text/plain": [
       "['RUS',\n",
       " 'RUS',\n",
       " 'IND',\n",
       " 'RUS',\n",
       " 'ENG',\n",
       " 'ESP',\n",
       " 'HUN',\n",
       " 'UKR',\n",
       " 'BUL',\n",
       " 'POL',\n",
       " 'RUS',\n",
       " 'RUS',\n",
       " 'UZB',\n",
       " 'RUS',\n",
       " 'ISR',\n",
       " 'ENG',\n",
       " 'ISR',\n",
       " 'RUS',\n",
       " 'GEO',\n",
       " 'CHN',\n",
       " 'RUS',\n",
       " 'CHN',\n",
       " 'HUN',\n",
       " 'BEL',\n",
       " 'RUS',\n",
       " 'CZE',\n",
       " 'BUL',\n",
       " 'ARM',\n",
       " 'CHN',\n",
       " 'BIH',\n",
       " 'FRA',\n",
       " 'HUN',\n",
       " 'SLO',\n",
       " 'NED',\n",
       " 'FRA',\n",
       " 'USA',\n",
       " 'BLR',\n",
       " 'RUS',\n",
       " 'NED',\n",
       " 'USA',\n",
       " 'UZB',\n",
       " 'MDA',\n",
       " 'SWE',\n",
       " 'ENG',\n",
       " 'RUS',\n",
       " 'NED',\n",
       " 'CHN',\n",
       " 'RUS',\n",
       " 'GER',\n",
       " 'BRA',\n",
       " 'UKR',\n",
       " 'ENG',\n",
       " 'RUS',\n",
       " 'EST',\n",
       " 'UKR',\n",
       " 'RUS',\n",
       " 'SUI',\n",
       " 'ISR',\n",
       " 'USA',\n",
       " 'ARM',\n",
       " 'ENG',\n",
       " 'RUS',\n",
       " 'SUI',\n",
       " 'RUS',\n",
       " 'GER',\n",
       " 'DEN',\n",
       " 'FRA',\n",
       " 'CZE',\n",
       " 'CRO',\n",
       " 'UKR',\n",
       " 'BIH',\n",
       " 'ISR',\n",
       " 'GER',\n",
       " 'RUS',\n",
       " 'ISR',\n",
       " 'NED',\n",
       " 'SVK',\n",
       " 'RUS',\n",
       " 'CRO',\n",
       " 'RUS',\n",
       " 'RUS',\n",
       " 'GER',\n",
       " 'RUS',\n",
       " 'RUS',\n",
       " 'PER',\n",
       " 'CHN',\n",
       " 'USA',\n",
       " 'CHN',\n",
       " 'FRA',\n",
       " 'UKR',\n",
       " 'GEO',\n",
       " 'KAZ',\n",
       " 'ARM',\n",
       " 'RUS',\n",
       " 'USA',\n",
       " 'RUS',\n",
       " 'GER',\n",
       " 'ARM',\n",
       " 'MDA',\n",
       " 'RUS',\n",
       " 'RUS',\n",
       " 'UKR',\n",
       " 'RUS',\n",
       " 'BLR',\n",
       " 'IND',\n",
       " 'LTU',\n",
       " 'RUS',\n",
       " 'ROM',\n",
       " 'RUS',\n",
       " 'FRA',\n",
       " 'ROM',\n",
       " 'MKD',\n",
       " 'IRL',\n",
       " 'RUS',\n",
       " 'ROM',\n",
       " 'UKR',\n",
       " 'GER',\n",
       " 'POL',\n",
       " 'CRO',\n",
       " 'RUS',\n",
       " 'GEO',\n",
       " 'ISR',\n",
       " 'ESP',\n",
       " 'BUL',\n",
       " 'RUS',\n",
       " 'BEL',\n",
       " 'NED',\n",
       " 'FRA',\n",
       " 'FRA',\n",
       " 'GER',\n",
       " 'ARM',\n",
       " 'FRA',\n",
       " 'HUN',\n",
       " 'HUN',\n",
       " 'KAZ',\n",
       " 'GER',\n",
       " 'ROM',\n",
       " 'UKR',\n",
       " 'INA',\n",
       " 'DEN',\n",
       " 'RUS',\n",
       " 'ENG',\n",
       " 'CUB',\n",
       " 'ENG',\n",
       " 'RUS',\n",
       " 'ISL',\n",
       " 'GRE',\n",
       " 'GER',\n",
       " 'RUS',\n",
       " 'AZE',\n",
       " 'HUN',\n",
       " 'BLR',\n",
       " 'ISL',\n",
       " 'BRA',\n",
       " 'RUS',\n",
       " 'CHN',\n",
       " 'SLO',\n",
       " 'USA',\n",
       " 'KAZ',\n",
       " 'CUB',\n",
       " 'SWE',\n",
       " 'UKR',\n",
       " 'SUI',\n",
       " 'HUN',\n",
       " 'MAR',\n",
       " 'RUS',\n",
       " 'ARM',\n",
       " 'UKR',\n",
       " 'LAT',\n",
       " 'RUS',\n",
       " 'AZE',\n",
       " 'ENG',\n",
       " 'POL',\n",
       " 'GRE',\n",
       " 'CZE',\n",
       " 'RUS',\n",
       " 'CYP',\n",
       " 'HUN',\n",
       " 'ARM',\n",
       " 'GEO',\n",
       " 'ESP',\n",
       " 'SLO',\n",
       " 'KAZ',\n",
       " 'RUS',\n",
       " 'HUN',\n",
       " 'AZE',\n",
       " 'RUS',\n",
       " 'UKR',\n",
       " 'UKR',\n",
       " 'UKR',\n",
       " 'POL',\n",
       " 'GER',\n",
       " 'RUS',\n",
       " 'USA',\n",
       " 'IND',\n",
       " 'CHN',\n",
       " 'GER',\n",
       " 'IRI',\n",
       " 'USA',\n",
       " 'UKR',\n",
       " 'BUL',\n",
       " 'UKR',\n",
       " 'RUS',\n",
       " 'RUS',\n",
       " 'UKR',\n",
       " 'ARG',\n",
       " 'CHN',\n",
       " 'POL',\n",
       " 'GEO',\n",
       " 'POL',\n",
       " 'TUR',\n",
       " 'USA',\n",
       " 'NOR',\n",
       " 'AZE',\n",
       " 'PHI',\n",
       " 'RUS',\n",
       " 'CHN',\n",
       " 'SCG',\n",
       " 'RUS',\n",
       " 'POL',\n",
       " 'RUS',\n",
       " 'NED',\n",
       " 'CHN',\n",
       " 'CAN',\n",
       " 'RUS',\n",
       " 'ENG',\n",
       " 'CUB',\n",
       " 'GEO',\n",
       " 'ISR',\n",
       " 'NED',\n",
       " 'ISR',\n",
       " 'BIH',\n",
       " 'GEO',\n",
       " 'UKR',\n",
       " 'TJK',\n",
       " 'FRA',\n",
       " 'SRB',\n",
       " 'ISR',\n",
       " 'GEO',\n",
       " 'RUS',\n",
       " 'SRB',\n",
       " 'CUB',\n",
       " 'AZE',\n",
       " 'RUS',\n",
       " 'FIN',\n",
       " 'IND',\n",
       " 'RUS',\n",
       " 'ITA',\n",
       " 'RUS',\n",
       " 'BEL',\n",
       " 'ISR',\n",
       " 'RUS',\n",
       " 'AZE',\n",
       " 'RUS',\n",
       " 'ARM',\n",
       " 'CHN',\n",
       " 'GER',\n",
       " 'PHI',\n",
       " 'CHN',\n",
       " 'RUS',\n",
       " 'BLR',\n",
       " 'BRA',\n",
       " 'NED',\n",
       " 'RUS',\n",
       " 'UKR',\n",
       " 'CZE',\n",
       " 'VIE',\n",
       " 'CUB',\n",
       " 'NED',\n",
       " 'VIE',\n",
       " 'SRB',\n",
       " 'IND',\n",
       " 'FRA',\n",
       " 'ENG',\n",
       " 'FRA',\n",
       " 'NOR',\n",
       " 'RUS',\n",
       " 'RUS',\n",
       " 'RUS',\n",
       " 'CHN',\n",
       " 'AUT',\n",
       " 'CHN',\n",
       " 'RUS',\n",
       " 'SRB',\n",
       " 'UKR',\n",
       " 'ROU',\n",
       " 'HUN',\n",
       " 'ARM',\n",
       " 'BLR',\n",
       " 'ENG',\n",
       " 'VEN',\n",
       " 'POL',\n",
       " 'ENG',\n",
       " 'IND',\n",
       " 'RUS',\n",
       " 'UZB',\n",
       " 'RUS',\n",
       " 'IND',\n",
       " 'FRA',\n",
       " 'UZB',\n",
       " 'ARM',\n",
       " 'POL',\n",
       " 'RUS',\n",
       " 'HUN',\n",
       " 'RUS',\n",
       " 'RUS',\n",
       " 'AZE',\n",
       " 'POL',\n",
       " 'RUS',\n",
       " 'HUN',\n",
       " 'EGY',\n",
       " 'SLO',\n",
       " 'CRO',\n",
       " 'RUS',\n",
       " 'ENG',\n",
       " 'NED',\n",
       " 'UKR',\n",
       " 'USA',\n",
       " 'VEN',\n",
       " 'CUB',\n",
       " 'CHN',\n",
       " 'RUS',\n",
       " 'CHN',\n",
       " 'LAT',\n",
       " 'USA',\n",
       " 'USA',\n",
       " 'UKR',\n",
       " 'UKR',\n",
       " 'RUS',\n",
       " 'RUS',\n",
       " 'IND',\n",
       " 'POL',\n",
       " 'IND',\n",
       " 'POL',\n",
       " 'IND',\n",
       " 'RUS',\n",
       " 'TUR',\n",
       " 'MDA',\n",
       " 'PAR',\n",
       " 'ESP',\n",
       " 'USA',\n",
       " 'UAE',\n",
       " 'PER',\n",
       " 'ESP',\n",
       " 'ARG',\n",
       " 'SWE']"
      ]
     },
     "execution_count": 26,
     "metadata": {},
     "output_type": "execute_result"
    }
   ],
   "source": [
    "l1"
   ]
  },
  {
   "cell_type": "code",
   "execution_count": 27,
   "id": "6c76e220",
   "metadata": {},
   "outputs": [],
   "source": [
    "uniqueName['country'] = l1"
   ]
  },
  {
   "cell_type": "code",
   "execution_count": 28,
   "id": "72d06043",
   "metadata": {},
   "outputs": [
    {
     "data": {
      "text/html": [
       "<div>\n",
       "<style scoped>\n",
       "    .dataframe tbody tr th:only-of-type {\n",
       "        vertical-align: middle;\n",
       "    }\n",
       "\n",
       "    .dataframe tbody tr th {\n",
       "        vertical-align: top;\n",
       "    }\n",
       "\n",
       "    .dataframe thead th {\n",
       "        text-align: right;\n",
       "    }\n",
       "</style>\n",
       "<table border=\"1\" class=\"dataframe\">\n",
       "  <thead>\n",
       "    <tr style=\"text-align: right;\">\n",
       "      <th></th>\n",
       "      <th>name</th>\n",
       "      <th>country</th>\n",
       "    </tr>\n",
       "  </thead>\n",
       "  <tbody>\n",
       "    <tr>\n",
       "      <th>0</th>\n",
       "      <td>Kasparov, Garry</td>\n",
       "      <td>RUS</td>\n",
       "    </tr>\n",
       "    <tr>\n",
       "      <th>1</th>\n",
       "      <td>Kramnik, Vladimir</td>\n",
       "      <td>RUS</td>\n",
       "    </tr>\n",
       "    <tr>\n",
       "      <th>2</th>\n",
       "      <td>Anand, Viswanathan</td>\n",
       "      <td>IND</td>\n",
       "    </tr>\n",
       "    <tr>\n",
       "      <th>3</th>\n",
       "      <td>Morozevich, Alexander</td>\n",
       "      <td>RUS</td>\n",
       "    </tr>\n",
       "    <tr>\n",
       "      <th>4</th>\n",
       "      <td>Adams, Michael</td>\n",
       "      <td>ENG</td>\n",
       "    </tr>\n",
       "    <tr>\n",
       "      <th>...</th>\n",
       "      <td>...</td>\n",
       "      <td>...</td>\n",
       "    </tr>\n",
       "    <tr>\n",
       "      <th>341</th>\n",
       "      <td>Salem, A.R. Saleh</td>\n",
       "      <td>UAE</td>\n",
       "    </tr>\n",
       "    <tr>\n",
       "      <th>342</th>\n",
       "      <td>Cordova, Emilio</td>\n",
       "      <td>PER</td>\n",
       "    </tr>\n",
       "    <tr>\n",
       "      <th>343</th>\n",
       "      <td>Anton Guijarro, David</td>\n",
       "      <td>ESP</td>\n",
       "    </tr>\n",
       "    <tr>\n",
       "      <th>344</th>\n",
       "      <td>Mareco, Sandro</td>\n",
       "      <td>ARG</td>\n",
       "    </tr>\n",
       "    <tr>\n",
       "      <th>345</th>\n",
       "      <td>Grandelius, Nils</td>\n",
       "      <td>SWE</td>\n",
       "    </tr>\n",
       "  </tbody>\n",
       "</table>\n",
       "<p>346 rows × 2 columns</p>\n",
       "</div>"
      ],
      "text/plain": [
       "                      name country\n",
       "0          Kasparov, Garry     RUS\n",
       "1        Kramnik, Vladimir     RUS\n",
       "2       Anand, Viswanathan     IND\n",
       "3    Morozevich, Alexander     RUS\n",
       "4           Adams, Michael     ENG\n",
       "..                     ...     ...\n",
       "341      Salem, A.R. Saleh     UAE\n",
       "342        Cordova, Emilio     PER\n",
       "343  Anton Guijarro, David     ESP\n",
       "344         Mareco, Sandro     ARG\n",
       "345       Grandelius, Nils     SWE\n",
       "\n",
       "[346 rows x 2 columns]"
      ]
     },
     "execution_count": 28,
     "metadata": {},
     "output_type": "execute_result"
    }
   ],
   "source": [
    "uniqueName"
   ]
  },
  {
   "cell_type": "code",
   "execution_count": 29,
   "id": "6fc3f7dd",
   "metadata": {},
   "outputs": [],
   "source": [
    "sizes = uniqueName['country'].value_counts()"
   ]
  },
  {
   "cell_type": "code",
   "execution_count": 30,
   "id": "a4c24d08",
   "metadata": {},
   "outputs": [],
   "source": [
    "sizes = pd.DataFrame(sizes).reset_index()\n",
    "sizes.columns = ['Country', 'GMs']"
   ]
  },
  {
   "cell_type": "code",
   "execution_count": 105,
   "id": "f3ede457",
   "metadata": {},
   "outputs": [
    {
     "data": {
      "application/vnd.plotly.v1+json": {
       "config": {
        "plotlyServerURL": "https://plot.ly"
       },
       "data": [
        {
         "geo": "geo",
         "hovertemplate": "GMs=%{marker.color}<br>Country=%{location}<extra></extra>",
         "legendgroup": "",
         "locationmode": "ISO-3",
         "locations": [
          "RUS",
          "UKR",
          "CHN",
          "ENG",
          "USA",
          "HUN",
          "POL",
          "FRA",
          "GER",
          "ARM",
          "NED",
          "ISR",
          "IND",
          "GEO",
          "AZE",
          "CUB",
          "ESP",
          "BLR",
          "ROM",
          "CRO",
          "SRB",
          "KAZ",
          "UZB",
          "BUL",
          "CZE",
          "SLO",
          "BEL",
          "MDA",
          "BIH",
          "SWE",
          "SUI",
          "BRA",
          "GRE",
          "VIE",
          "NOR",
          "TUR",
          "ARG",
          "VEN",
          "PHI",
          "LAT",
          "ISL",
          "DEN",
          "PER",
          "SVK",
          "PAR",
          "EGY",
          "EST",
          "ROU",
          "AUT",
          "ITA",
          "FIN",
          "TJK",
          "MAR",
          "CAN",
          "SCG",
          "LTU",
          "MKD",
          "IRL",
          "IRI",
          "CYP",
          "INA",
          "UAE"
         ],
         "marker": {
          "color": [
           71,
           22,
           17,
           13,
           13,
           12,
           12,
           12,
           12,
           10,
           10,
           10,
           10,
           8,
           7,
           6,
           5,
           5,
           4,
           4,
           4,
           4,
           4,
           4,
           4,
           4,
           3,
           3,
           3,
           3,
           3,
           3,
           2,
           2,
           2,
           2,
           2,
           2,
           2,
           2,
           2,
           2,
           2,
           1,
           1,
           1,
           1,
           1,
           1,
           1,
           1,
           1,
           1,
           1,
           1,
           1,
           1,
           1,
           1,
           1,
           1,
           1
          ],
          "coloraxis": "coloraxis",
          "size": [
           71,
           22,
           17,
           13,
           13,
           12,
           12,
           12,
           12,
           10,
           10,
           10,
           10,
           8,
           7,
           6,
           5,
           5,
           4,
           4,
           4,
           4,
           4,
           4,
           4,
           4,
           3,
           3,
           3,
           3,
           3,
           3,
           2,
           2,
           2,
           2,
           2,
           2,
           2,
           2,
           2,
           2,
           2,
           1,
           1,
           1,
           1,
           1,
           1,
           1,
           1,
           1,
           1,
           1,
           1,
           1,
           1,
           1,
           1,
           1,
           1,
           1
          ],
          "sizemode": "area",
          "sizeref": 0.1775,
          "symbol": "circle"
         },
         "mode": "markers",
         "name": "",
         "showlegend": false,
         "type": "scattergeo"
        }
       ],
       "layout": {
        "coloraxis": {
         "colorbar": {
          "title": {
           "text": "GMs"
          }
         },
         "colorscale": [
          [
           0,
           "rgb(0,0,255)"
          ],
          [
           1,
           "rgb(255,0,0)"
          ]
         ]
        },
        "geo": {
         "center": {},
         "domain": {
          "x": [
           0,
           1
          ],
          "y": [
           0,
           1
          ]
         }
        },
        "legend": {
         "itemsizing": "constant",
         "tracegroupgap": 0
        },
        "margin": {
         "t": 60
        },
        "template": {
         "data": {
          "bar": [
           {
            "error_x": {
             "color": "#2a3f5f"
            },
            "error_y": {
             "color": "#2a3f5f"
            },
            "marker": {
             "line": {
              "color": "#E5ECF6",
              "width": 0.5
             },
             "pattern": {
              "fillmode": "overlay",
              "size": 10,
              "solidity": 0.2
             }
            },
            "type": "bar"
           }
          ],
          "barpolar": [
           {
            "marker": {
             "line": {
              "color": "#E5ECF6",
              "width": 0.5
             },
             "pattern": {
              "fillmode": "overlay",
              "size": 10,
              "solidity": 0.2
             }
            },
            "type": "barpolar"
           }
          ],
          "carpet": [
           {
            "aaxis": {
             "endlinecolor": "#2a3f5f",
             "gridcolor": "white",
             "linecolor": "white",
             "minorgridcolor": "white",
             "startlinecolor": "#2a3f5f"
            },
            "baxis": {
             "endlinecolor": "#2a3f5f",
             "gridcolor": "white",
             "linecolor": "white",
             "minorgridcolor": "white",
             "startlinecolor": "#2a3f5f"
            },
            "type": "carpet"
           }
          ],
          "choropleth": [
           {
            "colorbar": {
             "outlinewidth": 0,
             "ticks": ""
            },
            "type": "choropleth"
           }
          ],
          "contour": [
           {
            "colorbar": {
             "outlinewidth": 0,
             "ticks": ""
            },
            "colorscale": [
             [
              0,
              "#0d0887"
             ],
             [
              0.1111111111111111,
              "#46039f"
             ],
             [
              0.2222222222222222,
              "#7201a8"
             ],
             [
              0.3333333333333333,
              "#9c179e"
             ],
             [
              0.4444444444444444,
              "#bd3786"
             ],
             [
              0.5555555555555556,
              "#d8576b"
             ],
             [
              0.6666666666666666,
              "#ed7953"
             ],
             [
              0.7777777777777778,
              "#fb9f3a"
             ],
             [
              0.8888888888888888,
              "#fdca26"
             ],
             [
              1,
              "#f0f921"
             ]
            ],
            "type": "contour"
           }
          ],
          "contourcarpet": [
           {
            "colorbar": {
             "outlinewidth": 0,
             "ticks": ""
            },
            "type": "contourcarpet"
           }
          ],
          "heatmap": [
           {
            "colorbar": {
             "outlinewidth": 0,
             "ticks": ""
            },
            "colorscale": [
             [
              0,
              "#0d0887"
             ],
             [
              0.1111111111111111,
              "#46039f"
             ],
             [
              0.2222222222222222,
              "#7201a8"
             ],
             [
              0.3333333333333333,
              "#9c179e"
             ],
             [
              0.4444444444444444,
              "#bd3786"
             ],
             [
              0.5555555555555556,
              "#d8576b"
             ],
             [
              0.6666666666666666,
              "#ed7953"
             ],
             [
              0.7777777777777778,
              "#fb9f3a"
             ],
             [
              0.8888888888888888,
              "#fdca26"
             ],
             [
              1,
              "#f0f921"
             ]
            ],
            "type": "heatmap"
           }
          ],
          "heatmapgl": [
           {
            "colorbar": {
             "outlinewidth": 0,
             "ticks": ""
            },
            "colorscale": [
             [
              0,
              "#0d0887"
             ],
             [
              0.1111111111111111,
              "#46039f"
             ],
             [
              0.2222222222222222,
              "#7201a8"
             ],
             [
              0.3333333333333333,
              "#9c179e"
             ],
             [
              0.4444444444444444,
              "#bd3786"
             ],
             [
              0.5555555555555556,
              "#d8576b"
             ],
             [
              0.6666666666666666,
              "#ed7953"
             ],
             [
              0.7777777777777778,
              "#fb9f3a"
             ],
             [
              0.8888888888888888,
              "#fdca26"
             ],
             [
              1,
              "#f0f921"
             ]
            ],
            "type": "heatmapgl"
           }
          ],
          "histogram": [
           {
            "marker": {
             "pattern": {
              "fillmode": "overlay",
              "size": 10,
              "solidity": 0.2
             }
            },
            "type": "histogram"
           }
          ],
          "histogram2d": [
           {
            "colorbar": {
             "outlinewidth": 0,
             "ticks": ""
            },
            "colorscale": [
             [
              0,
              "#0d0887"
             ],
             [
              0.1111111111111111,
              "#46039f"
             ],
             [
              0.2222222222222222,
              "#7201a8"
             ],
             [
              0.3333333333333333,
              "#9c179e"
             ],
             [
              0.4444444444444444,
              "#bd3786"
             ],
             [
              0.5555555555555556,
              "#d8576b"
             ],
             [
              0.6666666666666666,
              "#ed7953"
             ],
             [
              0.7777777777777778,
              "#fb9f3a"
             ],
             [
              0.8888888888888888,
              "#fdca26"
             ],
             [
              1,
              "#f0f921"
             ]
            ],
            "type": "histogram2d"
           }
          ],
          "histogram2dcontour": [
           {
            "colorbar": {
             "outlinewidth": 0,
             "ticks": ""
            },
            "colorscale": [
             [
              0,
              "#0d0887"
             ],
             [
              0.1111111111111111,
              "#46039f"
             ],
             [
              0.2222222222222222,
              "#7201a8"
             ],
             [
              0.3333333333333333,
              "#9c179e"
             ],
             [
              0.4444444444444444,
              "#bd3786"
             ],
             [
              0.5555555555555556,
              "#d8576b"
             ],
             [
              0.6666666666666666,
              "#ed7953"
             ],
             [
              0.7777777777777778,
              "#fb9f3a"
             ],
             [
              0.8888888888888888,
              "#fdca26"
             ],
             [
              1,
              "#f0f921"
             ]
            ],
            "type": "histogram2dcontour"
           }
          ],
          "mesh3d": [
           {
            "colorbar": {
             "outlinewidth": 0,
             "ticks": ""
            },
            "type": "mesh3d"
           }
          ],
          "parcoords": [
           {
            "line": {
             "colorbar": {
              "outlinewidth": 0,
              "ticks": ""
             }
            },
            "type": "parcoords"
           }
          ],
          "pie": [
           {
            "automargin": true,
            "type": "pie"
           }
          ],
          "scatter": [
           {
            "fillpattern": {
             "fillmode": "overlay",
             "size": 10,
             "solidity": 0.2
            },
            "type": "scatter"
           }
          ],
          "scatter3d": [
           {
            "line": {
             "colorbar": {
              "outlinewidth": 0,
              "ticks": ""
             }
            },
            "marker": {
             "colorbar": {
              "outlinewidth": 0,
              "ticks": ""
             }
            },
            "type": "scatter3d"
           }
          ],
          "scattercarpet": [
           {
            "marker": {
             "colorbar": {
              "outlinewidth": 0,
              "ticks": ""
             }
            },
            "type": "scattercarpet"
           }
          ],
          "scattergeo": [
           {
            "marker": {
             "colorbar": {
              "outlinewidth": 0,
              "ticks": ""
             }
            },
            "type": "scattergeo"
           }
          ],
          "scattergl": [
           {
            "marker": {
             "colorbar": {
              "outlinewidth": 0,
              "ticks": ""
             }
            },
            "type": "scattergl"
           }
          ],
          "scattermapbox": [
           {
            "marker": {
             "colorbar": {
              "outlinewidth": 0,
              "ticks": ""
             }
            },
            "type": "scattermapbox"
           }
          ],
          "scatterpolar": [
           {
            "marker": {
             "colorbar": {
              "outlinewidth": 0,
              "ticks": ""
             }
            },
            "type": "scatterpolar"
           }
          ],
          "scatterpolargl": [
           {
            "marker": {
             "colorbar": {
              "outlinewidth": 0,
              "ticks": ""
             }
            },
            "type": "scatterpolargl"
           }
          ],
          "scatterternary": [
           {
            "marker": {
             "colorbar": {
              "outlinewidth": 0,
              "ticks": ""
             }
            },
            "type": "scatterternary"
           }
          ],
          "surface": [
           {
            "colorbar": {
             "outlinewidth": 0,
             "ticks": ""
            },
            "colorscale": [
             [
              0,
              "#0d0887"
             ],
             [
              0.1111111111111111,
              "#46039f"
             ],
             [
              0.2222222222222222,
              "#7201a8"
             ],
             [
              0.3333333333333333,
              "#9c179e"
             ],
             [
              0.4444444444444444,
              "#bd3786"
             ],
             [
              0.5555555555555556,
              "#d8576b"
             ],
             [
              0.6666666666666666,
              "#ed7953"
             ],
             [
              0.7777777777777778,
              "#fb9f3a"
             ],
             [
              0.8888888888888888,
              "#fdca26"
             ],
             [
              1,
              "#f0f921"
             ]
            ],
            "type": "surface"
           }
          ],
          "table": [
           {
            "cells": {
             "fill": {
              "color": "#EBF0F8"
             },
             "line": {
              "color": "white"
             }
            },
            "header": {
             "fill": {
              "color": "#C8D4E3"
             },
             "line": {
              "color": "white"
             }
            },
            "type": "table"
           }
          ]
         },
         "layout": {
          "annotationdefaults": {
           "arrowcolor": "#2a3f5f",
           "arrowhead": 0,
           "arrowwidth": 1
          },
          "autotypenumbers": "strict",
          "coloraxis": {
           "colorbar": {
            "outlinewidth": 0,
            "ticks": ""
           }
          },
          "colorscale": {
           "diverging": [
            [
             0,
             "#8e0152"
            ],
            [
             0.1,
             "#c51b7d"
            ],
            [
             0.2,
             "#de77ae"
            ],
            [
             0.3,
             "#f1b6da"
            ],
            [
             0.4,
             "#fde0ef"
            ],
            [
             0.5,
             "#f7f7f7"
            ],
            [
             0.6,
             "#e6f5d0"
            ],
            [
             0.7,
             "#b8e186"
            ],
            [
             0.8,
             "#7fbc41"
            ],
            [
             0.9,
             "#4d9221"
            ],
            [
             1,
             "#276419"
            ]
           ],
           "sequential": [
            [
             0,
             "#0d0887"
            ],
            [
             0.1111111111111111,
             "#46039f"
            ],
            [
             0.2222222222222222,
             "#7201a8"
            ],
            [
             0.3333333333333333,
             "#9c179e"
            ],
            [
             0.4444444444444444,
             "#bd3786"
            ],
            [
             0.5555555555555556,
             "#d8576b"
            ],
            [
             0.6666666666666666,
             "#ed7953"
            ],
            [
             0.7777777777777778,
             "#fb9f3a"
            ],
            [
             0.8888888888888888,
             "#fdca26"
            ],
            [
             1,
             "#f0f921"
            ]
           ],
           "sequentialminus": [
            [
             0,
             "#0d0887"
            ],
            [
             0.1111111111111111,
             "#46039f"
            ],
            [
             0.2222222222222222,
             "#7201a8"
            ],
            [
             0.3333333333333333,
             "#9c179e"
            ],
            [
             0.4444444444444444,
             "#bd3786"
            ],
            [
             0.5555555555555556,
             "#d8576b"
            ],
            [
             0.6666666666666666,
             "#ed7953"
            ],
            [
             0.7777777777777778,
             "#fb9f3a"
            ],
            [
             0.8888888888888888,
             "#fdca26"
            ],
            [
             1,
             "#f0f921"
            ]
           ]
          },
          "colorway": [
           "#636efa",
           "#EF553B",
           "#00cc96",
           "#ab63fa",
           "#FFA15A",
           "#19d3f3",
           "#FF6692",
           "#B6E880",
           "#FF97FF",
           "#FECB52"
          ],
          "font": {
           "color": "#2a3f5f"
          },
          "geo": {
           "bgcolor": "white",
           "lakecolor": "white",
           "landcolor": "#E5ECF6",
           "showlakes": true,
           "showland": true,
           "subunitcolor": "white"
          },
          "hoverlabel": {
           "align": "left"
          },
          "hovermode": "closest",
          "mapbox": {
           "style": "light"
          },
          "paper_bgcolor": "white",
          "plot_bgcolor": "#E5ECF6",
          "polar": {
           "angularaxis": {
            "gridcolor": "white",
            "linecolor": "white",
            "ticks": ""
           },
           "bgcolor": "#E5ECF6",
           "radialaxis": {
            "gridcolor": "white",
            "linecolor": "white",
            "ticks": ""
           }
          },
          "scene": {
           "xaxis": {
            "backgroundcolor": "#E5ECF6",
            "gridcolor": "white",
            "gridwidth": 2,
            "linecolor": "white",
            "showbackground": true,
            "ticks": "",
            "zerolinecolor": "white"
           },
           "yaxis": {
            "backgroundcolor": "#E5ECF6",
            "gridcolor": "white",
            "gridwidth": 2,
            "linecolor": "white",
            "showbackground": true,
            "ticks": "",
            "zerolinecolor": "white"
           },
           "zaxis": {
            "backgroundcolor": "#E5ECF6",
            "gridcolor": "white",
            "gridwidth": 2,
            "linecolor": "white",
            "showbackground": true,
            "ticks": "",
            "zerolinecolor": "white"
           }
          },
          "shapedefaults": {
           "line": {
            "color": "#2a3f5f"
           }
          },
          "ternary": {
           "aaxis": {
            "gridcolor": "white",
            "linecolor": "white",
            "ticks": ""
           },
           "baxis": {
            "gridcolor": "white",
            "linecolor": "white",
            "ticks": ""
           },
           "bgcolor": "#E5ECF6",
           "caxis": {
            "gridcolor": "white",
            "linecolor": "white",
            "ticks": ""
           }
          },
          "title": {
           "x": 0.05
          },
          "xaxis": {
           "automargin": true,
           "gridcolor": "white",
           "linecolor": "white",
           "ticks": "",
           "title": {
            "standoff": 15
           },
           "zerolinecolor": "white",
           "zerolinewidth": 2
          },
          "yaxis": {
           "automargin": true,
           "gridcolor": "white",
           "linecolor": "white",
           "ticks": "",
           "title": {
            "standoff": 15
           },
           "zerolinecolor": "white",
           "zerolinewidth": 2
          }
         }
        }
       }
      },
      "text/html": [
       "<div>                            <div id=\"55a348ec-4bb0-4133-9a6d-75e8b1ff6acc\" class=\"plotly-graph-div\" style=\"height:525px; width:100%;\"></div>            <script type=\"text/javascript\">                require([\"plotly\"], function(Plotly) {                    window.PLOTLYENV=window.PLOTLYENV || {};                                    if (document.getElementById(\"55a348ec-4bb0-4133-9a6d-75e8b1ff6acc\")) {                    Plotly.newPlot(                        \"55a348ec-4bb0-4133-9a6d-75e8b1ff6acc\",                        [{\"geo\":\"geo\",\"hovertemplate\":\"GMs=%{marker.color}<br>Country=%{location}<extra></extra>\",\"legendgroup\":\"\",\"locationmode\":\"ISO-3\",\"locations\":[\"RUS\",\"UKR\",\"CHN\",\"ENG\",\"USA\",\"HUN\",\"POL\",\"FRA\",\"GER\",\"ARM\",\"NED\",\"ISR\",\"IND\",\"GEO\",\"AZE\",\"CUB\",\"ESP\",\"BLR\",\"ROM\",\"CRO\",\"SRB\",\"KAZ\",\"UZB\",\"BUL\",\"CZE\",\"SLO\",\"BEL\",\"MDA\",\"BIH\",\"SWE\",\"SUI\",\"BRA\",\"GRE\",\"VIE\",\"NOR\",\"TUR\",\"ARG\",\"VEN\",\"PHI\",\"LAT\",\"ISL\",\"DEN\",\"PER\",\"SVK\",\"PAR\",\"EGY\",\"EST\",\"ROU\",\"AUT\",\"ITA\",\"FIN\",\"TJK\",\"MAR\",\"CAN\",\"SCG\",\"LTU\",\"MKD\",\"IRL\",\"IRI\",\"CYP\",\"INA\",\"UAE\"],\"marker\":{\"color\":[71,22,17,13,13,12,12,12,12,10,10,10,10,8,7,6,5,5,4,4,4,4,4,4,4,4,3,3,3,3,3,3,2,2,2,2,2,2,2,2,2,2,2,1,1,1,1,1,1,1,1,1,1,1,1,1,1,1,1,1,1,1],\"coloraxis\":\"coloraxis\",\"size\":[71,22,17,13,13,12,12,12,12,10,10,10,10,8,7,6,5,5,4,4,4,4,4,4,4,4,3,3,3,3,3,3,2,2,2,2,2,2,2,2,2,2,2,1,1,1,1,1,1,1,1,1,1,1,1,1,1,1,1,1,1,1],\"sizemode\":\"area\",\"sizeref\":0.1775,\"symbol\":\"circle\"},\"mode\":\"markers\",\"name\":\"\",\"showlegend\":false,\"type\":\"scattergeo\"}],                        {\"template\":{\"data\":{\"histogram2dcontour\":[{\"type\":\"histogram2dcontour\",\"colorbar\":{\"outlinewidth\":0,\"ticks\":\"\"},\"colorscale\":[[0.0,\"#0d0887\"],[0.1111111111111111,\"#46039f\"],[0.2222222222222222,\"#7201a8\"],[0.3333333333333333,\"#9c179e\"],[0.4444444444444444,\"#bd3786\"],[0.5555555555555556,\"#d8576b\"],[0.6666666666666666,\"#ed7953\"],[0.7777777777777778,\"#fb9f3a\"],[0.8888888888888888,\"#fdca26\"],[1.0,\"#f0f921\"]]}],\"choropleth\":[{\"type\":\"choropleth\",\"colorbar\":{\"outlinewidth\":0,\"ticks\":\"\"}}],\"histogram2d\":[{\"type\":\"histogram2d\",\"colorbar\":{\"outlinewidth\":0,\"ticks\":\"\"},\"colorscale\":[[0.0,\"#0d0887\"],[0.1111111111111111,\"#46039f\"],[0.2222222222222222,\"#7201a8\"],[0.3333333333333333,\"#9c179e\"],[0.4444444444444444,\"#bd3786\"],[0.5555555555555556,\"#d8576b\"],[0.6666666666666666,\"#ed7953\"],[0.7777777777777778,\"#fb9f3a\"],[0.8888888888888888,\"#fdca26\"],[1.0,\"#f0f921\"]]}],\"heatmap\":[{\"type\":\"heatmap\",\"colorbar\":{\"outlinewidth\":0,\"ticks\":\"\"},\"colorscale\":[[0.0,\"#0d0887\"],[0.1111111111111111,\"#46039f\"],[0.2222222222222222,\"#7201a8\"],[0.3333333333333333,\"#9c179e\"],[0.4444444444444444,\"#bd3786\"],[0.5555555555555556,\"#d8576b\"],[0.6666666666666666,\"#ed7953\"],[0.7777777777777778,\"#fb9f3a\"],[0.8888888888888888,\"#fdca26\"],[1.0,\"#f0f921\"]]}],\"heatmapgl\":[{\"type\":\"heatmapgl\",\"colorbar\":{\"outlinewidth\":0,\"ticks\":\"\"},\"colorscale\":[[0.0,\"#0d0887\"],[0.1111111111111111,\"#46039f\"],[0.2222222222222222,\"#7201a8\"],[0.3333333333333333,\"#9c179e\"],[0.4444444444444444,\"#bd3786\"],[0.5555555555555556,\"#d8576b\"],[0.6666666666666666,\"#ed7953\"],[0.7777777777777778,\"#fb9f3a\"],[0.8888888888888888,\"#fdca26\"],[1.0,\"#f0f921\"]]}],\"contourcarpet\":[{\"type\":\"contourcarpet\",\"colorbar\":{\"outlinewidth\":0,\"ticks\":\"\"}}],\"contour\":[{\"type\":\"contour\",\"colorbar\":{\"outlinewidth\":0,\"ticks\":\"\"},\"colorscale\":[[0.0,\"#0d0887\"],[0.1111111111111111,\"#46039f\"],[0.2222222222222222,\"#7201a8\"],[0.3333333333333333,\"#9c179e\"],[0.4444444444444444,\"#bd3786\"],[0.5555555555555556,\"#d8576b\"],[0.6666666666666666,\"#ed7953\"],[0.7777777777777778,\"#fb9f3a\"],[0.8888888888888888,\"#fdca26\"],[1.0,\"#f0f921\"]]}],\"surface\":[{\"type\":\"surface\",\"colorbar\":{\"outlinewidth\":0,\"ticks\":\"\"},\"colorscale\":[[0.0,\"#0d0887\"],[0.1111111111111111,\"#46039f\"],[0.2222222222222222,\"#7201a8\"],[0.3333333333333333,\"#9c179e\"],[0.4444444444444444,\"#bd3786\"],[0.5555555555555556,\"#d8576b\"],[0.6666666666666666,\"#ed7953\"],[0.7777777777777778,\"#fb9f3a\"],[0.8888888888888888,\"#fdca26\"],[1.0,\"#f0f921\"]]}],\"mesh3d\":[{\"type\":\"mesh3d\",\"colorbar\":{\"outlinewidth\":0,\"ticks\":\"\"}}],\"scatter\":[{\"fillpattern\":{\"fillmode\":\"overlay\",\"size\":10,\"solidity\":0.2},\"type\":\"scatter\"}],\"parcoords\":[{\"type\":\"parcoords\",\"line\":{\"colorbar\":{\"outlinewidth\":0,\"ticks\":\"\"}}}],\"scatterpolargl\":[{\"type\":\"scatterpolargl\",\"marker\":{\"colorbar\":{\"outlinewidth\":0,\"ticks\":\"\"}}}],\"bar\":[{\"error_x\":{\"color\":\"#2a3f5f\"},\"error_y\":{\"color\":\"#2a3f5f\"},\"marker\":{\"line\":{\"color\":\"#E5ECF6\",\"width\":0.5},\"pattern\":{\"fillmode\":\"overlay\",\"size\":10,\"solidity\":0.2}},\"type\":\"bar\"}],\"scattergeo\":[{\"type\":\"scattergeo\",\"marker\":{\"colorbar\":{\"outlinewidth\":0,\"ticks\":\"\"}}}],\"scatterpolar\":[{\"type\":\"scatterpolar\",\"marker\":{\"colorbar\":{\"outlinewidth\":0,\"ticks\":\"\"}}}],\"histogram\":[{\"marker\":{\"pattern\":{\"fillmode\":\"overlay\",\"size\":10,\"solidity\":0.2}},\"type\":\"histogram\"}],\"scattergl\":[{\"type\":\"scattergl\",\"marker\":{\"colorbar\":{\"outlinewidth\":0,\"ticks\":\"\"}}}],\"scatter3d\":[{\"type\":\"scatter3d\",\"line\":{\"colorbar\":{\"outlinewidth\":0,\"ticks\":\"\"}},\"marker\":{\"colorbar\":{\"outlinewidth\":0,\"ticks\":\"\"}}}],\"scattermapbox\":[{\"type\":\"scattermapbox\",\"marker\":{\"colorbar\":{\"outlinewidth\":0,\"ticks\":\"\"}}}],\"scatterternary\":[{\"type\":\"scatterternary\",\"marker\":{\"colorbar\":{\"outlinewidth\":0,\"ticks\":\"\"}}}],\"scattercarpet\":[{\"type\":\"scattercarpet\",\"marker\":{\"colorbar\":{\"outlinewidth\":0,\"ticks\":\"\"}}}],\"carpet\":[{\"aaxis\":{\"endlinecolor\":\"#2a3f5f\",\"gridcolor\":\"white\",\"linecolor\":\"white\",\"minorgridcolor\":\"white\",\"startlinecolor\":\"#2a3f5f\"},\"baxis\":{\"endlinecolor\":\"#2a3f5f\",\"gridcolor\":\"white\",\"linecolor\":\"white\",\"minorgridcolor\":\"white\",\"startlinecolor\":\"#2a3f5f\"},\"type\":\"carpet\"}],\"table\":[{\"cells\":{\"fill\":{\"color\":\"#EBF0F8\"},\"line\":{\"color\":\"white\"}},\"header\":{\"fill\":{\"color\":\"#C8D4E3\"},\"line\":{\"color\":\"white\"}},\"type\":\"table\"}],\"barpolar\":[{\"marker\":{\"line\":{\"color\":\"#E5ECF6\",\"width\":0.5},\"pattern\":{\"fillmode\":\"overlay\",\"size\":10,\"solidity\":0.2}},\"type\":\"barpolar\"}],\"pie\":[{\"automargin\":true,\"type\":\"pie\"}]},\"layout\":{\"autotypenumbers\":\"strict\",\"colorway\":[\"#636efa\",\"#EF553B\",\"#00cc96\",\"#ab63fa\",\"#FFA15A\",\"#19d3f3\",\"#FF6692\",\"#B6E880\",\"#FF97FF\",\"#FECB52\"],\"font\":{\"color\":\"#2a3f5f\"},\"hovermode\":\"closest\",\"hoverlabel\":{\"align\":\"left\"},\"paper_bgcolor\":\"white\",\"plot_bgcolor\":\"#E5ECF6\",\"polar\":{\"bgcolor\":\"#E5ECF6\",\"angularaxis\":{\"gridcolor\":\"white\",\"linecolor\":\"white\",\"ticks\":\"\"},\"radialaxis\":{\"gridcolor\":\"white\",\"linecolor\":\"white\",\"ticks\":\"\"}},\"ternary\":{\"bgcolor\":\"#E5ECF6\",\"aaxis\":{\"gridcolor\":\"white\",\"linecolor\":\"white\",\"ticks\":\"\"},\"baxis\":{\"gridcolor\":\"white\",\"linecolor\":\"white\",\"ticks\":\"\"},\"caxis\":{\"gridcolor\":\"white\",\"linecolor\":\"white\",\"ticks\":\"\"}},\"coloraxis\":{\"colorbar\":{\"outlinewidth\":0,\"ticks\":\"\"}},\"colorscale\":{\"sequential\":[[0.0,\"#0d0887\"],[0.1111111111111111,\"#46039f\"],[0.2222222222222222,\"#7201a8\"],[0.3333333333333333,\"#9c179e\"],[0.4444444444444444,\"#bd3786\"],[0.5555555555555556,\"#d8576b\"],[0.6666666666666666,\"#ed7953\"],[0.7777777777777778,\"#fb9f3a\"],[0.8888888888888888,\"#fdca26\"],[1.0,\"#f0f921\"]],\"sequentialminus\":[[0.0,\"#0d0887\"],[0.1111111111111111,\"#46039f\"],[0.2222222222222222,\"#7201a8\"],[0.3333333333333333,\"#9c179e\"],[0.4444444444444444,\"#bd3786\"],[0.5555555555555556,\"#d8576b\"],[0.6666666666666666,\"#ed7953\"],[0.7777777777777778,\"#fb9f3a\"],[0.8888888888888888,\"#fdca26\"],[1.0,\"#f0f921\"]],\"diverging\":[[0,\"#8e0152\"],[0.1,\"#c51b7d\"],[0.2,\"#de77ae\"],[0.3,\"#f1b6da\"],[0.4,\"#fde0ef\"],[0.5,\"#f7f7f7\"],[0.6,\"#e6f5d0\"],[0.7,\"#b8e186\"],[0.8,\"#7fbc41\"],[0.9,\"#4d9221\"],[1,\"#276419\"]]},\"xaxis\":{\"gridcolor\":\"white\",\"linecolor\":\"white\",\"ticks\":\"\",\"title\":{\"standoff\":15},\"zerolinecolor\":\"white\",\"automargin\":true,\"zerolinewidth\":2},\"yaxis\":{\"gridcolor\":\"white\",\"linecolor\":\"white\",\"ticks\":\"\",\"title\":{\"standoff\":15},\"zerolinecolor\":\"white\",\"automargin\":true,\"zerolinewidth\":2},\"scene\":{\"xaxis\":{\"backgroundcolor\":\"#E5ECF6\",\"gridcolor\":\"white\",\"linecolor\":\"white\",\"showbackground\":true,\"ticks\":\"\",\"zerolinecolor\":\"white\",\"gridwidth\":2},\"yaxis\":{\"backgroundcolor\":\"#E5ECF6\",\"gridcolor\":\"white\",\"linecolor\":\"white\",\"showbackground\":true,\"ticks\":\"\",\"zerolinecolor\":\"white\",\"gridwidth\":2},\"zaxis\":{\"backgroundcolor\":\"#E5ECF6\",\"gridcolor\":\"white\",\"linecolor\":\"white\",\"showbackground\":true,\"ticks\":\"\",\"zerolinecolor\":\"white\",\"gridwidth\":2}},\"shapedefaults\":{\"line\":{\"color\":\"#2a3f5f\"}},\"annotationdefaults\":{\"arrowcolor\":\"#2a3f5f\",\"arrowhead\":0,\"arrowwidth\":1},\"geo\":{\"bgcolor\":\"white\",\"landcolor\":\"#E5ECF6\",\"subunitcolor\":\"white\",\"showland\":true,\"showlakes\":true,\"lakecolor\":\"white\"},\"title\":{\"x\":0.05},\"mapbox\":{\"style\":\"light\"}}},\"geo\":{\"domain\":{\"x\":[0.0,1.0],\"y\":[0.0,1.0]},\"center\":{}},\"coloraxis\":{\"colorbar\":{\"title\":{\"text\":\"GMs\"}},\"colorscale\":[[0.0,\"rgb(0,0,255)\"],[1.0,\"rgb(255,0,0)\"]]},\"legend\":{\"tracegroupgap\":0,\"itemsizing\":\"constant\"},\"margin\":{\"t\":60}},                        {\"responsive\": true}                    ).then(function(){\n",
       "                            \n",
       "var gd = document.getElementById('55a348ec-4bb0-4133-9a6d-75e8b1ff6acc');\n",
       "var x = new MutationObserver(function (mutations, observer) {{\n",
       "        var display = window.getComputedStyle(gd).display;\n",
       "        if (!display || display === 'none') {{\n",
       "            console.log([gd, 'removed!']);\n",
       "            Plotly.purge(gd);\n",
       "            observer.disconnect();\n",
       "        }}\n",
       "}});\n",
       "\n",
       "// Listen for the removal of the full notebook cells\n",
       "var notebookContainer = gd.closest('#notebook-container');\n",
       "if (notebookContainer) {{\n",
       "    x.observe(notebookContainer, {childList: true});\n",
       "}}\n",
       "\n",
       "// Listen for the clearing of the current output cell\n",
       "var outputEl = gd.closest('.output');\n",
       "if (outputEl) {{\n",
       "    x.observe(outputEl, {childList: true});\n",
       "}}\n",
       "\n",
       "                        })                };                });            </script>        </div>"
      ]
     },
     "metadata": {},
     "output_type": "display_data"
    }
   ],
   "source": [
    "\n",
    "fig = px.scatter_geo(sizes, locations = sizes['Country'], locationmode = 'ISO-3', size = sizes['GMs'], color = sizes['GMs'],color_continuous_scale='bluered')\n",
    "fig.show()"
   ]
  },
  {
   "cell_type": "code",
   "execution_count": 32,
   "id": "ba7e79c1",
   "metadata": {},
   "outputs": [
    {
     "data": {
      "text/html": [
       "<div>\n",
       "<style scoped>\n",
       "    .dataframe tbody tr th:only-of-type {\n",
       "        vertical-align: middle;\n",
       "    }\n",
       "\n",
       "    .dataframe tbody tr th {\n",
       "        vertical-align: top;\n",
       "    }\n",
       "\n",
       "    .dataframe thead th {\n",
       "        text-align: right;\n",
       "    }\n",
       "</style>\n",
       "<table border=\"1\" class=\"dataframe\">\n",
       "  <thead>\n",
       "    <tr style=\"text-align: right;\">\n",
       "      <th></th>\n",
       "      <th>Country</th>\n",
       "      <th>GMs</th>\n",
       "    </tr>\n",
       "  </thead>\n",
       "  <tbody>\n",
       "    <tr>\n",
       "      <th>0</th>\n",
       "      <td>RUS</td>\n",
       "      <td>71</td>\n",
       "    </tr>\n",
       "    <tr>\n",
       "      <th>1</th>\n",
       "      <td>UKR</td>\n",
       "      <td>22</td>\n",
       "    </tr>\n",
       "    <tr>\n",
       "      <th>2</th>\n",
       "      <td>CHN</td>\n",
       "      <td>17</td>\n",
       "    </tr>\n",
       "    <tr>\n",
       "      <th>3</th>\n",
       "      <td>ENG</td>\n",
       "      <td>13</td>\n",
       "    </tr>\n",
       "    <tr>\n",
       "      <th>4</th>\n",
       "      <td>USA</td>\n",
       "      <td>13</td>\n",
       "    </tr>\n",
       "    <tr>\n",
       "      <th>...</th>\n",
       "      <td>...</td>\n",
       "      <td>...</td>\n",
       "    </tr>\n",
       "    <tr>\n",
       "      <th>57</th>\n",
       "      <td>IRL</td>\n",
       "      <td>1</td>\n",
       "    </tr>\n",
       "    <tr>\n",
       "      <th>58</th>\n",
       "      <td>IRI</td>\n",
       "      <td>1</td>\n",
       "    </tr>\n",
       "    <tr>\n",
       "      <th>59</th>\n",
       "      <td>CYP</td>\n",
       "      <td>1</td>\n",
       "    </tr>\n",
       "    <tr>\n",
       "      <th>60</th>\n",
       "      <td>INA</td>\n",
       "      <td>1</td>\n",
       "    </tr>\n",
       "    <tr>\n",
       "      <th>61</th>\n",
       "      <td>UAE</td>\n",
       "      <td>1</td>\n",
       "    </tr>\n",
       "  </tbody>\n",
       "</table>\n",
       "<p>62 rows × 2 columns</p>\n",
       "</div>"
      ],
      "text/plain": [
       "   Country  GMs\n",
       "0      RUS   71\n",
       "1      UKR   22\n",
       "2      CHN   17\n",
       "3      ENG   13\n",
       "4      USA   13\n",
       "..     ...  ...\n",
       "57     IRL    1\n",
       "58     IRI    1\n",
       "59     CYP    1\n",
       "60     INA    1\n",
       "61     UAE    1\n",
       "\n",
       "[62 rows x 2 columns]"
      ]
     },
     "execution_count": 32,
     "metadata": {},
     "output_type": "execute_result"
    }
   ],
   "source": [
    "sizes"
   ]
  },
  {
   "cell_type": "markdown",
   "id": "1e603f97",
   "metadata": {},
   "source": [
    "##### Bar graph for the same"
   ]
  },
  {
   "cell_type": "code",
   "execution_count": 106,
   "id": "432a0068",
   "metadata": {
    "scrolled": false
   },
   "outputs": [
    {
     "data": {
      "image/png": "[encoded data removed]",
      "text/plain": [
       "<Figure size 1440x576 with 1 Axes>"
      ]
     },
     "metadata": {},
     "output_type": "display_data"
    }
   ],
   "source": [
    "plt.figure(figsize = (20,8))\n",
    "plt.bar(sizes.Country, sizes.GMs, edgecolor = '#FC766AFF', color = '#5B84B1FF')\n",
    "plt.xlabel('Countries', size = 17)\n",
    "plt.ylabel('No of GrandMasters', size = 17)\n",
    "plt.title('GrandMasters per country',size = 20)\n",
    "plt.xticks(rotation = 90, size = 15)\n",
    "plt.yticks(size = 14)\n",
    "plt.show()"
   ]
  },
  {
   "cell_type": "markdown",
   "id": "7f930603",
   "metadata": {},
   "source": [
    "<br>"
   ]
  },
  {
   "cell_type": "markdown",
   "id": "05c07e91",
   "metadata": {},
   "source": [
    "### Player who have played the most games (top 10)"
   ]
  },
  {
   "cell_type": "code",
   "execution_count": 34,
   "id": "6c3506db",
   "metadata": {},
   "outputs": [
    {
     "data": {
      "text/html": [
       "<div>\n",
       "<style scoped>\n",
       "    .dataframe tbody tr th:only-of-type {\n",
       "        vertical-align: middle;\n",
       "    }\n",
       "\n",
       "    .dataframe tbody tr th {\n",
       "        vertical-align: top;\n",
       "    }\n",
       "\n",
       "    .dataframe thead th {\n",
       "        text-align: right;\n",
       "    }\n",
       "</style>\n",
       "<table border=\"1\" class=\"dataframe\">\n",
       "  <thead>\n",
       "    <tr style=\"text-align: right;\">\n",
       "      <th></th>\n",
       "      <th>ranking_date</th>\n",
       "      <th>rank</th>\n",
       "      <th>name</th>\n",
       "      <th>title</th>\n",
       "      <th>country</th>\n",
       "      <th>rating</th>\n",
       "      <th>games</th>\n",
       "      <th>birth_year</th>\n",
       "    </tr>\n",
       "  </thead>\n",
       "  <tbody>\n",
       "    <tr>\n",
       "      <th>0</th>\n",
       "      <td>2000-07-27</td>\n",
       "      <td>1</td>\n",
       "      <td>Kasparov, Garry</td>\n",
       "      <td>g</td>\n",
       "      <td>RUS</td>\n",
       "      <td>2849</td>\n",
       "      <td>35</td>\n",
       "      <td>1963</td>\n",
       "    </tr>\n",
       "    <tr>\n",
       "      <th>1</th>\n",
       "      <td>2000-07-27</td>\n",
       "      <td>2</td>\n",
       "      <td>Kramnik, Vladimir</td>\n",
       "      <td>g</td>\n",
       "      <td>RUS</td>\n",
       "      <td>2770</td>\n",
       "      <td>23</td>\n",
       "      <td>1975</td>\n",
       "    </tr>\n",
       "    <tr>\n",
       "      <th>2</th>\n",
       "      <td>2000-07-27</td>\n",
       "      <td>3</td>\n",
       "      <td>Anand, Viswanathan</td>\n",
       "      <td>g</td>\n",
       "      <td>IND</td>\n",
       "      <td>2762</td>\n",
       "      <td>23</td>\n",
       "      <td>1969</td>\n",
       "    </tr>\n",
       "    <tr>\n",
       "      <th>3</th>\n",
       "      <td>2000-07-27</td>\n",
       "      <td>4</td>\n",
       "      <td>Morozevich, Alexander</td>\n",
       "      <td>g</td>\n",
       "      <td>RUS</td>\n",
       "      <td>2756</td>\n",
       "      <td>28</td>\n",
       "      <td>1977</td>\n",
       "    </tr>\n",
       "    <tr>\n",
       "      <th>4</th>\n",
       "      <td>2000-07-27</td>\n",
       "      <td>5</td>\n",
       "      <td>Adams, Michael</td>\n",
       "      <td>g</td>\n",
       "      <td>ENG</td>\n",
       "      <td>2755</td>\n",
       "      <td>38</td>\n",
       "      <td>1971</td>\n",
       "    </tr>\n",
       "    <tr>\n",
       "      <th>...</th>\n",
       "      <td>...</td>\n",
       "      <td>...</td>\n",
       "      <td>...</td>\n",
       "      <td>...</td>\n",
       "      <td>...</td>\n",
       "      <td>...</td>\n",
       "      <td>...</td>\n",
       "      <td>...</td>\n",
       "    </tr>\n",
       "    <tr>\n",
       "      <th>11506</th>\n",
       "      <td>2017-06-27</td>\n",
       "      <td>96</td>\n",
       "      <td>Safarli, Eltaj</td>\n",
       "      <td>g</td>\n",
       "      <td>AZE</td>\n",
       "      <td>2656</td>\n",
       "      <td>9</td>\n",
       "      <td>1992</td>\n",
       "    </tr>\n",
       "    <tr>\n",
       "      <th>11507</th>\n",
       "      <td>2017-06-27</td>\n",
       "      <td>97</td>\n",
       "      <td>Shirov, Alexei</td>\n",
       "      <td>g</td>\n",
       "      <td>LAT</td>\n",
       "      <td>2656</td>\n",
       "      <td>9</td>\n",
       "      <td>1972</td>\n",
       "    </tr>\n",
       "    <tr>\n",
       "      <th>11508</th>\n",
       "      <td>2017-06-27</td>\n",
       "      <td>98</td>\n",
       "      <td>Granda Zuniga, Julio E</td>\n",
       "      <td>g</td>\n",
       "      <td>PER</td>\n",
       "      <td>2656</td>\n",
       "      <td>4</td>\n",
       "      <td>1967</td>\n",
       "    </tr>\n",
       "    <tr>\n",
       "      <th>11509</th>\n",
       "      <td>2017-06-27</td>\n",
       "      <td>99</td>\n",
       "      <td>Robson, Ray</td>\n",
       "      <td>g</td>\n",
       "      <td>USA</td>\n",
       "      <td>2656</td>\n",
       "      <td>0</td>\n",
       "      <td>1994</td>\n",
       "    </tr>\n",
       "    <tr>\n",
       "      <th>11510</th>\n",
       "      <td>2017-06-27</td>\n",
       "      <td>100</td>\n",
       "      <td>Grandelius, Nils</td>\n",
       "      <td>g</td>\n",
       "      <td>SWE</td>\n",
       "      <td>2655</td>\n",
       "      <td>10</td>\n",
       "      <td>1993</td>\n",
       "    </tr>\n",
       "  </tbody>\n",
       "</table>\n",
       "<p>11511 rows × 8 columns</p>\n",
       "</div>"
      ],
      "text/plain": [
       "      ranking_date  rank                    name title country  rating  games  \\\n",
       "0       2000-07-27     1         Kasparov, Garry     g     RUS    2849     35   \n",
       "1       2000-07-27     2       Kramnik, Vladimir     g     RUS    2770     23   \n",
       "2       2000-07-27     3      Anand, Viswanathan     g     IND    2762     23   \n",
       "3       2000-07-27     4   Morozevich, Alexander     g     RUS    2756     28   \n",
       "4       2000-07-27     5          Adams, Michael     g     ENG    2755     38   \n",
       "...            ...   ...                     ...   ...     ...     ...    ...   \n",
       "11506   2017-06-27    96          Safarli, Eltaj     g     AZE    2656      9   \n",
       "11507   2017-06-27    97          Shirov, Alexei     g     LAT    2656      9   \n",
       "11508   2017-06-27    98  Granda Zuniga, Julio E     g     PER    2656      4   \n",
       "11509   2017-06-27    99             Robson, Ray     g     USA    2656      0   \n",
       "11510   2017-06-27   100        Grandelius, Nils     g     SWE    2655     10   \n",
       "\n",
       "       birth_year  \n",
       "0            1963  \n",
       "1            1975  \n",
       "2            1969  \n",
       "3            1977  \n",
       "4            1971  \n",
       "...           ...  \n",
       "11506        1992  \n",
       "11507        1972  \n",
       "11508        1967  \n",
       "11509        1994  \n",
       "11510        1993  \n",
       "\n",
       "[11511 rows x 8 columns]"
      ]
     },
     "execution_count": 34,
     "metadata": {},
     "output_type": "execute_result"
    }
   ],
   "source": [
    "df"
   ]
  },
  {
   "cell_type": "code",
   "execution_count": 35,
   "id": "a263a368",
   "metadata": {},
   "outputs": [],
   "source": [
    "games_played = (df.groupby(by = 'name').sum()).reset_index().head(10)"
   ]
  },
  {
   "cell_type": "code",
   "execution_count": 36,
   "id": "f7c2a873",
   "metadata": {},
   "outputs": [],
   "source": [
    "games_played = games_played.sort_values(by = 'games', ascending = False)\n"
   ]
  },
  {
   "cell_type": "code",
   "execution_count": 107,
   "id": "68d09fec",
   "metadata": {},
   "outputs": [
    {
     "data": {
      "image/png": "[encoded data removed]",
      "text/plain": [
       "<Figure size 576x396 with 1 Axes>"
      ]
     },
     "metadata": {},
     "output_type": "display_data"
    }
   ],
   "source": [
    "plt.bar(x = games_played['name'], height = games_played['games'], color = '#e32222')\n",
    "plt.xlabel('Player', size = 14, labelpad = 20)\n",
    "plt.ylabel('Games played', size = 14, labelpad = 20)\n",
    "plt.xticks(rotation = 90);"
   ]
  },
  {
   "cell_type": "markdown",
   "id": "46dce9ca",
   "metadata": {},
   "source": [
    "</br>"
   ]
  },
  {
   "cell_type": "markdown",
   "id": "615bd2c1",
   "metadata": {},
   "source": [
    "### Trying to find if there is any co-relation between rank and rating\n"
   ]
  },
  {
   "cell_type": "markdown",
   "id": "6d38b51c",
   "metadata": {},
   "source": []
  },
  {
   "cell_type": "code",
   "execution_count": 38,
   "id": "286fbb95",
   "metadata": {},
   "outputs": [
    {
     "data": {
      "text/html": [
       "<div>\n",
       "<style scoped>\n",
       "    .dataframe tbody tr th:only-of-type {\n",
       "        vertical-align: middle;\n",
       "    }\n",
       "\n",
       "    .dataframe tbody tr th {\n",
       "        vertical-align: top;\n",
       "    }\n",
       "\n",
       "    .dataframe thead th {\n",
       "        text-align: right;\n",
       "    }\n",
       "</style>\n",
       "<table border=\"1\" class=\"dataframe\">\n",
       "  <thead>\n",
       "    <tr style=\"text-align: right;\">\n",
       "      <th></th>\n",
       "      <th>ranking_date</th>\n",
       "      <th>rank</th>\n",
       "      <th>name</th>\n",
       "      <th>title</th>\n",
       "      <th>country</th>\n",
       "      <th>rating</th>\n",
       "      <th>games</th>\n",
       "      <th>birth_year</th>\n",
       "    </tr>\n",
       "  </thead>\n",
       "  <tbody>\n",
       "    <tr>\n",
       "      <th>0</th>\n",
       "      <td>2000-07-27</td>\n",
       "      <td>1</td>\n",
       "      <td>Kasparov, Garry</td>\n",
       "      <td>g</td>\n",
       "      <td>RUS</td>\n",
       "      <td>2849</td>\n",
       "      <td>35</td>\n",
       "      <td>1963</td>\n",
       "    </tr>\n",
       "    <tr>\n",
       "      <th>1</th>\n",
       "      <td>2000-07-27</td>\n",
       "      <td>2</td>\n",
       "      <td>Kramnik, Vladimir</td>\n",
       "      <td>g</td>\n",
       "      <td>RUS</td>\n",
       "      <td>2770</td>\n",
       "      <td>23</td>\n",
       "      <td>1975</td>\n",
       "    </tr>\n",
       "    <tr>\n",
       "      <th>2</th>\n",
       "      <td>2000-07-27</td>\n",
       "      <td>3</td>\n",
       "      <td>Anand, Viswanathan</td>\n",
       "      <td>g</td>\n",
       "      <td>IND</td>\n",
       "      <td>2762</td>\n",
       "      <td>23</td>\n",
       "      <td>1969</td>\n",
       "    </tr>\n",
       "    <tr>\n",
       "      <th>3</th>\n",
       "      <td>2000-07-27</td>\n",
       "      <td>4</td>\n",
       "      <td>Morozevich, Alexander</td>\n",
       "      <td>g</td>\n",
       "      <td>RUS</td>\n",
       "      <td>2756</td>\n",
       "      <td>28</td>\n",
       "      <td>1977</td>\n",
       "    </tr>\n",
       "    <tr>\n",
       "      <th>4</th>\n",
       "      <td>2000-07-27</td>\n",
       "      <td>5</td>\n",
       "      <td>Adams, Michael</td>\n",
       "      <td>g</td>\n",
       "      <td>ENG</td>\n",
       "      <td>2755</td>\n",
       "      <td>38</td>\n",
       "      <td>1971</td>\n",
       "    </tr>\n",
       "  </tbody>\n",
       "</table>\n",
       "</div>"
      ],
      "text/plain": [
       "  ranking_date  rank                   name title country  rating  games  \\\n",
       "0   2000-07-27     1        Kasparov, Garry     g     RUS    2849     35   \n",
       "1   2000-07-27     2      Kramnik, Vladimir     g     RUS    2770     23   \n",
       "2   2000-07-27     3     Anand, Viswanathan     g     IND    2762     23   \n",
       "3   2000-07-27     4  Morozevich, Alexander     g     RUS    2756     28   \n",
       "4   2000-07-27     5         Adams, Michael     g     ENG    2755     38   \n",
       "\n",
       "   birth_year  \n",
       "0        1963  \n",
       "1        1975  \n",
       "2        1969  \n",
       "3        1977  \n",
       "4        1971  "
      ]
     },
     "execution_count": 38,
     "metadata": {},
     "output_type": "execute_result"
    }
   ],
   "source": [
    "df.head()"
   ]
  },
  {
   "cell_type": "code",
   "execution_count": 39,
   "id": "3e438754",
   "metadata": {},
   "outputs": [],
   "source": [
    "from sklearn.preprocessing import StandardScaler"
   ]
  },
  {
   "cell_type": "code",
   "execution_count": 40,
   "id": "e3463172",
   "metadata": {},
   "outputs": [],
   "source": [
    "scalar = StandardScaler()"
   ]
  },
  {
   "cell_type": "code",
   "execution_count": 42,
   "id": "30257c77",
   "metadata": {},
   "outputs": [],
   "source": [
    "temp = scalar.fit_transform(df[['rank','rating']])"
   ]
  },
  {
   "cell_type": "code",
   "execution_count": 51,
   "id": "2c1d629e",
   "metadata": {},
   "outputs": [
    {
     "data": {
      "text/plain": [
       "array([[-1.714532  ,  3.42456189],\n",
       "       [-1.68023683,  1.74245229],\n",
       "       [-1.64594166,  1.57211208],\n",
       "       ...,\n",
       "       [ 1.61209935, -0.68489573],\n",
       "       [ 1.64639452, -0.68489573],\n",
       "       [ 1.68068969, -0.70618826]])"
      ]
     },
     "execution_count": 51,
     "metadata": {},
     "output_type": "execute_result"
    }
   ],
   "source": [
    "temp"
   ]
  },
  {
   "cell_type": "code",
   "execution_count": 108,
   "id": "f52ac13e",
   "metadata": {},
   "outputs": [
    {
     "data": {
      "image/png": "[encoded data removed]",
      "text/plain": [
       "<Figure size 576x396 with 1 Axes>"
      ]
     },
     "metadata": {},
     "output_type": "display_data"
    }
   ],
   "source": [
    "plt.scatter(df['rating'], df['rank'])\n",
    "plt.ylim(bottom = max(df['rank']), top = min(df['rank'])-70)\n",
    "z = np.polyfit(df['rating'], df['rank'], 1)\n",
    "p = np.poly1d(z)\n",
    "plt.plot(df['rating'], p(df['rating']),\"r-.\");"
   ]
  },
  {
   "cell_type": "code",
   "execution_count": 55,
   "id": "c3fcb75d",
   "metadata": {},
   "outputs": [],
   "source": [
    "from sklearn.linear_model import LinearRegression\n",
    "from sklearn.model_selection import train_test_split\n",
    "model = LinearRegression()"
   ]
  },
  {
   "cell_type": "code",
   "execution_count": 57,
   "id": "1940d7fd",
   "metadata": {
    "scrolled": true
   },
   "outputs": [
    {
     "data": {
      "text/html": [
       "<div>\n",
       "<style scoped>\n",
       "    .dataframe tbody tr th:only-of-type {\n",
       "        vertical-align: middle;\n",
       "    }\n",
       "\n",
       "    .dataframe tbody tr th {\n",
       "        vertical-align: top;\n",
       "    }\n",
       "\n",
       "    .dataframe thead th {\n",
       "        text-align: right;\n",
       "    }\n",
       "</style>\n",
       "<table border=\"1\" class=\"dataframe\">\n",
       "  <thead>\n",
       "    <tr style=\"text-align: right;\">\n",
       "      <th></th>\n",
       "      <th>ranking_date</th>\n",
       "      <th>rank</th>\n",
       "      <th>name</th>\n",
       "      <th>title</th>\n",
       "      <th>country</th>\n",
       "      <th>rating</th>\n",
       "      <th>games</th>\n",
       "      <th>birth_year</th>\n",
       "    </tr>\n",
       "  </thead>\n",
       "  <tbody>\n",
       "    <tr>\n",
       "      <th>0</th>\n",
       "      <td>2000-07-27</td>\n",
       "      <td>1</td>\n",
       "      <td>Kasparov, Garry</td>\n",
       "      <td>g</td>\n",
       "      <td>RUS</td>\n",
       "      <td>2849</td>\n",
       "      <td>35</td>\n",
       "      <td>1963</td>\n",
       "    </tr>\n",
       "    <tr>\n",
       "      <th>1</th>\n",
       "      <td>2000-07-27</td>\n",
       "      <td>2</td>\n",
       "      <td>Kramnik, Vladimir</td>\n",
       "      <td>g</td>\n",
       "      <td>RUS</td>\n",
       "      <td>2770</td>\n",
       "      <td>23</td>\n",
       "      <td>1975</td>\n",
       "    </tr>\n",
       "    <tr>\n",
       "      <th>2</th>\n",
       "      <td>2000-07-27</td>\n",
       "      <td>3</td>\n",
       "      <td>Anand, Viswanathan</td>\n",
       "      <td>g</td>\n",
       "      <td>IND</td>\n",
       "      <td>2762</td>\n",
       "      <td>23</td>\n",
       "      <td>1969</td>\n",
       "    </tr>\n",
       "    <tr>\n",
       "      <th>3</th>\n",
       "      <td>2000-07-27</td>\n",
       "      <td>4</td>\n",
       "      <td>Morozevich, Alexander</td>\n",
       "      <td>g</td>\n",
       "      <td>RUS</td>\n",
       "      <td>2756</td>\n",
       "      <td>28</td>\n",
       "      <td>1977</td>\n",
       "    </tr>\n",
       "    <tr>\n",
       "      <th>4</th>\n",
       "      <td>2000-07-27</td>\n",
       "      <td>5</td>\n",
       "      <td>Adams, Michael</td>\n",
       "      <td>g</td>\n",
       "      <td>ENG</td>\n",
       "      <td>2755</td>\n",
       "      <td>38</td>\n",
       "      <td>1971</td>\n",
       "    </tr>\n",
       "  </tbody>\n",
       "</table>\n",
       "</div>"
      ],
      "text/plain": [
       "  ranking_date  rank                   name title country  rating  games  \\\n",
       "0   2000-07-27     1        Kasparov, Garry     g     RUS    2849     35   \n",
       "1   2000-07-27     2      Kramnik, Vladimir     g     RUS    2770     23   \n",
       "2   2000-07-27     3     Anand, Viswanathan     g     IND    2762     23   \n",
       "3   2000-07-27     4  Morozevich, Alexander     g     RUS    2756     28   \n",
       "4   2000-07-27     5         Adams, Michael     g     ENG    2755     38   \n",
       "\n",
       "   birth_year  \n",
       "0        1963  \n",
       "1        1975  \n",
       "2        1969  \n",
       "3        1977  \n",
       "4        1971  "
      ]
     },
     "execution_count": 57,
     "metadata": {},
     "output_type": "execute_result"
    }
   ],
   "source": [
    "df.head()"
   ]
  },
  {
   "cell_type": "code",
   "execution_count": 69,
   "id": "a39b9f80",
   "metadata": {},
   "outputs": [
    {
     "data": {
      "text/plain": [
       "ranking_date    0\n",
       "rank            0\n",
       "name            0\n",
       "title           0\n",
       "country         0\n",
       "rating          0\n",
       "games           0\n",
       "birth_year      0\n",
       "dtype: int64"
      ]
     },
     "execution_count": 69,
     "metadata": {},
     "output_type": "execute_result"
    }
   ],
   "source": [
    "df.isnull().sum()"
   ]
  },
  {
   "cell_type": "code",
   "execution_count": 88,
   "id": "fae9bc93",
   "metadata": {},
   "outputs": [],
   "source": [
    "x = pd.DataFrame(df['rating'])\n",
    "y = df['rank']"
   ]
  },
  {
   "cell_type": "code",
   "execution_count": 89,
   "id": "8b1e70cf",
   "metadata": {},
   "outputs": [],
   "source": [
    "x_train, x_test, y_train, y_test = train_test_split(x, y, test_size=0.3, random_state=42)"
   ]
  },
  {
   "cell_type": "code",
   "execution_count": 92,
   "id": "c313e495",
   "metadata": {},
   "outputs": [
    {
     "data": {
      "text/html": [
       "<style>#sk-container-id-2 {color: black;background-color: white;}#sk-container-id-2 pre{padding: 0;}#sk-container-id-2 div.sk-toggleable {background-color: white;}#sk-container-id-2 label.sk-toggleable__label {cursor: pointer;display: block;width: 100%;margin-bottom: 0;padding: 0.3em;box-sizing: border-box;text-align: center;}#sk-container-id-2 label.sk-toggleable__label-arrow:before {content: \"▸\";float: left;margin-right: 0.25em;color: #696969;}#sk-container-id-2 label.sk-toggleable__label-arrow:hover:before {color: black;}#sk-container-id-2 div.sk-estimator:hover label.sk-toggleable__label-arrow:before {color: black;}#sk-container-id-2 div.sk-toggleable__content {max-height: 0;max-width: 0;overflow: hidden;text-align: left;background-color: #f0f8ff;}#sk-container-id-2 div.sk-toggleable__content pre {margin: 0.2em;color: black;border-radius: 0.25em;background-color: #f0f8ff;}#sk-container-id-2 input.sk-toggleable__control:checked~div.sk-toggleable__content {max-height: 200px;max-width: 100%;overflow: auto;}#sk-container-id-2 input.sk-toggleable__control:checked~label.sk-toggleable__label-arrow:before {content: \"▾\";}#sk-container-id-2 div.sk-estimator input.sk-toggleable__control:checked~label.sk-toggleable__label {background-color: #d4ebff;}#sk-container-id-2 div.sk-label input.sk-toggleable__control:checked~label.sk-toggleable__label {background-color: #d4ebff;}#sk-container-id-2 input.sk-hidden--visually {border: 0;clip: rect(1px 1px 1px 1px);clip: rect(1px, 1px, 1px, 1px);height: 1px;margin: -1px;overflow: hidden;padding: 0;position: absolute;width: 1px;}#sk-container-id-2 div.sk-estimator {font-family: monospace;background-color: #f0f8ff;border: 1px dotted black;border-radius: 0.25em;box-sizing: border-box;margin-bottom: 0.5em;}#sk-container-id-2 div.sk-estimator:hover {background-color: #d4ebff;}#sk-container-id-2 div.sk-parallel-item::after {content: \"\";width: 100%;border-bottom: 1px solid gray;flex-grow: 1;}#sk-container-id-2 div.sk-label:hover label.sk-toggleable__label {background-color: #d4ebff;}#sk-container-id-2 div.sk-serial::before {content: \"\";position: absolute;border-left: 1px solid gray;box-sizing: border-box;top: 0;bottom: 0;left: 50%;z-index: 0;}#sk-container-id-2 div.sk-serial {display: flex;flex-direction: column;align-items: center;background-color: white;padding-right: 0.2em;padding-left: 0.2em;position: relative;}#sk-container-id-2 div.sk-item {position: relative;z-index: 1;}#sk-container-id-2 div.sk-parallel {display: flex;align-items: stretch;justify-content: center;background-color: white;position: relative;}#sk-container-id-2 div.sk-item::before, #sk-container-id-2 div.sk-parallel-item::before {content: \"\";position: absolute;border-left: 1px solid gray;box-sizing: border-box;top: 0;bottom: 0;left: 50%;z-index: -1;}#sk-container-id-2 div.sk-parallel-item {display: flex;flex-direction: column;z-index: 1;position: relative;background-color: white;}#sk-container-id-2 div.sk-parallel-item:first-child::after {align-self: flex-end;width: 50%;}#sk-container-id-2 div.sk-parallel-item:last-child::after {align-self: flex-start;width: 50%;}#sk-container-id-2 div.sk-parallel-item:only-child::after {width: 0;}#sk-container-id-2 div.sk-dashed-wrapped {border: 1px dashed gray;margin: 0 0.4em 0.5em 0.4em;box-sizing: border-box;padding-bottom: 0.4em;background-color: white;}#sk-container-id-2 div.sk-label label {font-family: monospace;font-weight: bold;display: inline-block;line-height: 1.2em;}#sk-container-id-2 div.sk-label-container {text-align: center;}#sk-container-id-2 div.sk-container {/* jupyter's `normalize.less` sets `[hidden] { display: none; }` but bootstrap.min.css set `[hidden] { display: none !important; }` so we also need the `!important` here to be able to override the default hidden behavior on the sphinx rendered scikit-learn.org. See: https://github.com/scikit-learn/scikit-learn/issues/21755 */display: inline-block !important;position: relative;}#sk-container-id-2 div.sk-text-repr-fallback {display: none;}</style><div id=\"sk-container-id-2\" class=\"sk-top-container\"><div class=\"sk-text-repr-fallback\"><pre>LinearRegression()</pre><b>In a Jupyter environment, please rerun this cell to show the HTML representation or trust the notebook. <br />On GitHub, the HTML representation is unable to render, please try loading this page with nbviewer.org.</b></div><div class=\"sk-container\" hidden><div class=\"sk-item\"><div class=\"sk-estimator sk-toggleable\"><input class=\"sk-toggleable__control sk-hidden--visually\" id=\"sk-estimator-id-2\" type=\"checkbox\" checked><label for=\"sk-estimator-id-2\" class=\"sk-toggleable__label sk-toggleable__label-arrow\">LinearRegression</label><div class=\"sk-toggleable__content\"><pre>LinearRegression()</pre></div></div></div></div></div>"
      ],
      "text/plain": [
       "LinearRegression()"
      ]
     },
     "execution_count": 92,
     "metadata": {},
     "output_type": "execute_result"
    }
   ],
   "source": [
    "model.fit(x_train, y_train)"
   ]
  },
  {
   "cell_type": "code",
   "execution_count": 96,
   "id": "6b8fa94f",
   "metadata": {},
   "outputs": [
    {
     "data": {
      "text/plain": [
       "array([61.82527792, 62.85435389, 23.74946682, ..., 17.06047298,\n",
       "       12.42963109, 57.19443603])"
      ]
     },
     "execution_count": 96,
     "metadata": {},
     "output_type": "execute_result"
    }
   ],
   "source": [
    "model.predict(x_test)"
   ]
  },
  {
   "cell_type": "code",
   "execution_count": 97,
   "id": "cd0c9c54",
   "metadata": {},
   "outputs": [
    {
     "data": {
      "text/plain": [
       "0.6975066010088101"
      ]
     },
     "execution_count": 97,
     "metadata": {},
     "output_type": "execute_result"
    }
   ],
   "source": [
    "model.score(x_test, y_test)"
   ]
  },
  {
   "cell_type": "code",
   "execution_count": 98,
   "id": "b81a9cb6",
   "metadata": {},
   "outputs": [
    {
     "name": "stderr",
     "output_type": "stream",
     "text": [
      "C:\\Users\\Nilesh\\AppData\\Local\\Programs\\Python\\Python310\\lib\\site-packages\\sklearn\\base.py:450: UserWarning:\n",
      "\n",
      "X does not have valid feature names, but LinearRegression was fitted with feature names\n",
      "\n"
     ]
    },
    {
     "data": {
      "text/plain": [
       "array([-31.82063587])"
      ]
     },
     "execution_count": 98,
     "metadata": {},
     "output_type": "execute_result"
    }
   ],
   "source": [
    "model.predict([[2849]])"
   ]
  },
  {
   "cell_type": "code",
   "execution_count": null,
   "id": "09bfadf9",
   "metadata": {},
   "outputs": [],
   "source": []
  }
 ],
 "metadata": {
  "kernelspec": {
   "display_name": "Python 3 (ipykernel)",
   "language": "python",
   "name": "python3"
  },
  "language_info": {
   "codemirror_mode": {
    "name": "ipython",
    "version": 3
   },
   "file_extension": ".py",
   "mimetype": "text/x-python",
   "name": "python",
   "nbconvert_exporter": "python",
   "pygments_lexer": "ipython3",
   "version": "3.10.5"
  }
 },
 "nbformat": 4,
 "nbformat_minor": 5
}
